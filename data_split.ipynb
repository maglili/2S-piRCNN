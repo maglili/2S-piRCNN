{
 "cells": [
  {
   "cell_type": "code",
   "execution_count": 1,
   "metadata": {
    "executionInfo": {
     "elapsed": 960,
     "status": "ok",
     "timestamp": 1606098556563,
     "user": {
      "displayName": "N26091194鄧立昌",
      "photoUrl": "",
      "userId": "09046790946486703509"
     },
     "user_tz": -480
    },
    "id": "RUBao0YQ01re"
   },
   "outputs": [],
   "source": [
    "import pandas as pd\n",
    "import numpy as np"
   ]
  },
  {
   "cell_type": "code",
   "execution_count": 2,
   "metadata": {
    "executionInfo": {
     "elapsed": 5434,
     "status": "ok",
     "timestamp": 1606098562448,
     "user": {
      "displayName": "N26091194鄧立昌",
      "photoUrl": "",
      "userId": "09046790946486703509"
     },
     "user_tz": -480
    },
    "id": "affVwe9j1EtI"
   },
   "outputs": [],
   "source": [
    "neg_l1 = pd.read_csv('./Datasets/neg_l1.txt')\n",
    "neg_l2 = pd.read_csv('./Datasets/neg_l2.txt')\n",
    "pos_l1 = pd.read_csv('./Datasets/pos_l1.txt')\n",
    "pos_l2 = pd.read_csv('./Datasets/pos_l2.txt')"
   ]
  },
  {
   "cell_type": "code",
   "execution_count": 3,
   "metadata": {
    "colab": {
     "base_uri": "https://localhost:8080/",
     "height": 419
    },
    "executionInfo": {
     "elapsed": 1005,
     "status": "ok",
     "timestamp": 1606098567507,
     "user": {
      "displayName": "N26091194鄧立昌",
      "photoUrl": "",
      "userId": "09046790946486703509"
     },
     "user_tz": -480
    },
    "id": "TshUK0tS7yV0",
    "outputId": "7f774dd7-03b4-49a3-a9a7-da8b3d99f377"
   },
   "outputs": [
    {
     "data": {
      "text/html": [
       "<div>\n",
       "<style scoped>\n",
       "    .dataframe tbody tr th:only-of-type {\n",
       "        vertical-align: middle;\n",
       "    }\n",
       "\n",
       "    .dataframe tbody tr th {\n",
       "        vertical-align: top;\n",
       "    }\n",
       "\n",
       "    .dataframe thead th {\n",
       "        text-align: right;\n",
       "    }\n",
       "</style>\n",
       "<table border=\"1\" class=\"dataframe\">\n",
       "  <thead>\n",
       "    <tr style=\"text-align: right;\">\n",
       "      <th></th>\n",
       "      <th>data</th>\n",
       "      <th>label</th>\n",
       "    </tr>\n",
       "  </thead>\n",
       "  <tbody>\n",
       "    <tr>\n",
       "      <th>0</th>\n",
       "      <td>UGGUUGUUUUCUCUGACUCCUUGAGUAGAA0000</td>\n",
       "      <td>1</td>\n",
       "    </tr>\n",
       "    <tr>\n",
       "      <th>1</th>\n",
       "      <td>UGACUGUGUGGCUCCACUGGCAAGGGCGGU0000</td>\n",
       "      <td>1</td>\n",
       "    </tr>\n",
       "    <tr>\n",
       "      <th>2</th>\n",
       "      <td>UAACUAGAGAACUGGUCAGGUCUGAGGUG00000</td>\n",
       "      <td>1</td>\n",
       "    </tr>\n",
       "    <tr>\n",
       "      <th>3</th>\n",
       "      <td>UCAAUUGGUUGAGUGUUUGUCUGGCAUUC00000</td>\n",
       "      <td>1</td>\n",
       "    </tr>\n",
       "    <tr>\n",
       "      <th>4</th>\n",
       "      <td>UGGAUGUGAGAUAGAUAGGAGAAGGAAGUC0000</td>\n",
       "      <td>1</td>\n",
       "    </tr>\n",
       "    <tr>\n",
       "      <th>...</th>\n",
       "      <td>...</td>\n",
       "      <td>...</td>\n",
       "    </tr>\n",
       "    <tr>\n",
       "      <th>1413</th>\n",
       "      <td>UCGUAAUUCAUAGUCUCCUGUGAGACUCGAGG00</td>\n",
       "      <td>1</td>\n",
       "    </tr>\n",
       "    <tr>\n",
       "      <th>1414</th>\n",
       "      <td>UCCUGAUAUUUGUAGGACAAGAGGCCCACACU00</td>\n",
       "      <td>1</td>\n",
       "    </tr>\n",
       "    <tr>\n",
       "      <th>1415</th>\n",
       "      <td>UGACAGAUGCAUAUUCUGUGCCCUUUUCGCCU00</td>\n",
       "      <td>1</td>\n",
       "    </tr>\n",
       "    <tr>\n",
       "      <th>1416</th>\n",
       "      <td>UACAUCCAGAAGAGACCCAAAAGGAGAUGGGCC0</td>\n",
       "      <td>1</td>\n",
       "    </tr>\n",
       "    <tr>\n",
       "      <th>1417</th>\n",
       "      <td>UUGAAGGUAGAGAAGGUUACCCCAAAAUGGGUUU</td>\n",
       "      <td>1</td>\n",
       "    </tr>\n",
       "  </tbody>\n",
       "</table>\n",
       "<p>1418 rows × 2 columns</p>\n",
       "</div>"
      ],
      "text/plain": [
       "                                    data  label\n",
       "0     UGGUUGUUUUCUCUGACUCCUUGAGUAGAA0000      1\n",
       "1     UGACUGUGUGGCUCCACUGGCAAGGGCGGU0000      1\n",
       "2     UAACUAGAGAACUGGUCAGGUCUGAGGUG00000      1\n",
       "3     UCAAUUGGUUGAGUGUUUGUCUGGCAUUC00000      1\n",
       "4     UGGAUGUGAGAUAGAUAGGAGAAGGAAGUC0000      1\n",
       "...                                  ...    ...\n",
       "1413  UCGUAAUUCAUAGUCUCCUGUGAGACUCGAGG00      1\n",
       "1414  UCCUGAUAUUUGUAGGACAAGAGGCCCACACU00      1\n",
       "1415  UGACAGAUGCAUAUUCUGUGCCCUUUUCGCCU00      1\n",
       "1416  UACAUCCAGAAGAGACCCAAAAGGAGAUGGGCC0      1\n",
       "1417  UUGAAGGUAGAGAAGGUUACCCCAAAAUGGGUUU      1\n",
       "\n",
       "[1418 rows x 2 columns]"
      ]
     },
     "execution_count": 3,
     "metadata": {},
     "output_type": "execute_result"
    }
   ],
   "source": [
    "pos_l1"
   ]
  },
  {
   "cell_type": "code",
   "execution_count": 4,
   "metadata": {
    "executionInfo": {
     "elapsed": 1989,
     "status": "ok",
     "timestamp": 1606098573357,
     "user": {
      "displayName": "N26091194鄧立昌",
      "photoUrl": "",
      "userId": "09046790946486703509"
     },
     "user_tz": -480
    },
    "id": "pNq-zBZw1JsU"
   },
   "outputs": [],
   "source": [
    "df_set = [neg_l1, neg_l2, pos_l1, pos_l2]\n",
    "\n",
    "for df in df_set:\n",
    "  for i in range(len(df)):\n",
    "    sequence = df.iloc[i][0]\n",
    "    one_hot = np.zeros((4,34))\n",
    "    for index,character in enumerate(sequence):\n",
    "      if character == 'A':\n",
    "        one_hot[:,index] = np.array([1., 0., 0., 0.])     \n",
    "      elif character == 'C':\n",
    "        one_hot[:,index] = np.array([0., 1., 0., 0.])\n",
    "      elif character == 'G':\n",
    "        one_hot[:,index] = np.array([0., 0., 1., 0.])\n",
    "      elif character == 'U':  \n",
    "        one_hot[:,index] = np.array([0., 0., 0., 1.])\n",
    "    df.at[i,'data'] = one_hot.T"
   ]
  },
  {
   "cell_type": "code",
   "execution_count": 5,
   "metadata": {
    "colab": {
     "base_uri": "https://localhost:8080/",
     "height": 419
    },
    "executionInfo": {
     "elapsed": 1106,
     "status": "ok",
     "timestamp": 1606098578161,
     "user": {
      "displayName": "N26091194鄧立昌",
      "photoUrl": "",
      "userId": "09046790946486703509"
     },
     "user_tz": -480
    },
    "id": "1NXrc6NU71Wm",
    "outputId": "f8f69348-888c-40ab-91d3-e8657f8c2ae8"
   },
   "outputs": [
    {
     "data": {
      "text/html": [
       "<div>\n",
       "<style scoped>\n",
       "    .dataframe tbody tr th:only-of-type {\n",
       "        vertical-align: middle;\n",
       "    }\n",
       "\n",
       "    .dataframe tbody tr th {\n",
       "        vertical-align: top;\n",
       "    }\n",
       "\n",
       "    .dataframe thead th {\n",
       "        text-align: right;\n",
       "    }\n",
       "</style>\n",
       "<table border=\"1\" class=\"dataframe\">\n",
       "  <thead>\n",
       "    <tr style=\"text-align: right;\">\n",
       "      <th></th>\n",
       "      <th>data</th>\n",
       "      <th>label</th>\n",
       "    </tr>\n",
       "  </thead>\n",
       "  <tbody>\n",
       "    <tr>\n",
       "      <th>0</th>\n",
       "      <td>[[0.0, 0.0, 0.0, 1.0], [0.0, 0.0, 1.0, 0.0], [...</td>\n",
       "      <td>1</td>\n",
       "    </tr>\n",
       "    <tr>\n",
       "      <th>1</th>\n",
       "      <td>[[0.0, 0.0, 0.0, 1.0], [0.0, 0.0, 1.0, 0.0], [...</td>\n",
       "      <td>1</td>\n",
       "    </tr>\n",
       "    <tr>\n",
       "      <th>2</th>\n",
       "      <td>[[0.0, 0.0, 0.0, 1.0], [1.0, 0.0, 0.0, 0.0], [...</td>\n",
       "      <td>1</td>\n",
       "    </tr>\n",
       "    <tr>\n",
       "      <th>3</th>\n",
       "      <td>[[0.0, 0.0, 0.0, 1.0], [0.0, 1.0, 0.0, 0.0], [...</td>\n",
       "      <td>1</td>\n",
       "    </tr>\n",
       "    <tr>\n",
       "      <th>4</th>\n",
       "      <td>[[0.0, 0.0, 0.0, 1.0], [0.0, 0.0, 1.0, 0.0], [...</td>\n",
       "      <td>1</td>\n",
       "    </tr>\n",
       "    <tr>\n",
       "      <th>...</th>\n",
       "      <td>...</td>\n",
       "      <td>...</td>\n",
       "    </tr>\n",
       "    <tr>\n",
       "      <th>1413</th>\n",
       "      <td>[[0.0, 0.0, 0.0, 1.0], [0.0, 1.0, 0.0, 0.0], [...</td>\n",
       "      <td>1</td>\n",
       "    </tr>\n",
       "    <tr>\n",
       "      <th>1414</th>\n",
       "      <td>[[0.0, 0.0, 0.0, 1.0], [0.0, 1.0, 0.0, 0.0], [...</td>\n",
       "      <td>1</td>\n",
       "    </tr>\n",
       "    <tr>\n",
       "      <th>1415</th>\n",
       "      <td>[[0.0, 0.0, 0.0, 1.0], [0.0, 0.0, 1.0, 0.0], [...</td>\n",
       "      <td>1</td>\n",
       "    </tr>\n",
       "    <tr>\n",
       "      <th>1416</th>\n",
       "      <td>[[0.0, 0.0, 0.0, 1.0], [1.0, 0.0, 0.0, 0.0], [...</td>\n",
       "      <td>1</td>\n",
       "    </tr>\n",
       "    <tr>\n",
       "      <th>1417</th>\n",
       "      <td>[[0.0, 0.0, 0.0, 1.0], [0.0, 0.0, 0.0, 1.0], [...</td>\n",
       "      <td>1</td>\n",
       "    </tr>\n",
       "  </tbody>\n",
       "</table>\n",
       "<p>1418 rows × 2 columns</p>\n",
       "</div>"
      ],
      "text/plain": [
       "                                                   data  label\n",
       "0     [[0.0, 0.0, 0.0, 1.0], [0.0, 0.0, 1.0, 0.0], [...      1\n",
       "1     [[0.0, 0.0, 0.0, 1.0], [0.0, 0.0, 1.0, 0.0], [...      1\n",
       "2     [[0.0, 0.0, 0.0, 1.0], [1.0, 0.0, 0.0, 0.0], [...      1\n",
       "3     [[0.0, 0.0, 0.0, 1.0], [0.0, 1.0, 0.0, 0.0], [...      1\n",
       "4     [[0.0, 0.0, 0.0, 1.0], [0.0, 0.0, 1.0, 0.0], [...      1\n",
       "...                                                 ...    ...\n",
       "1413  [[0.0, 0.0, 0.0, 1.0], [0.0, 1.0, 0.0, 0.0], [...      1\n",
       "1414  [[0.0, 0.0, 0.0, 1.0], [0.0, 1.0, 0.0, 0.0], [...      1\n",
       "1415  [[0.0, 0.0, 0.0, 1.0], [0.0, 0.0, 1.0, 0.0], [...      1\n",
       "1416  [[0.0, 0.0, 0.0, 1.0], [1.0, 0.0, 0.0, 0.0], [...      1\n",
       "1417  [[0.0, 0.0, 0.0, 1.0], [0.0, 0.0, 0.0, 1.0], [...      1\n",
       "\n",
       "[1418 rows x 2 columns]"
      ]
     },
     "execution_count": 5,
     "metadata": {},
     "output_type": "execute_result"
    }
   ],
   "source": [
    "pos_l1"
   ]
  },
  {
   "cell_type": "markdown",
   "metadata": {
    "id": "0R0iS8S6F8uq"
   },
   "source": [
    "## data_l1"
   ]
  },
  {
   "cell_type": "code",
   "execution_count": 6,
   "metadata": {
    "colab": {
     "base_uri": "https://localhost:8080/",
     "height": 419
    },
    "executionInfo": {
     "elapsed": 791,
     "status": "ok",
     "timestamp": 1606063384425,
     "user": {
      "displayName": "N26091194鄧立昌",
      "photoUrl": "",
      "userId": "09046790946486703509"
     },
     "user_tz": -480
    },
    "id": "l7RgbxeA8j9L",
    "outputId": "b9061367-dcdb-4b02-9117-367d9182a3ed"
   },
   "outputs": [
    {
     "data": {
      "text/html": [
       "<div>\n",
       "<style scoped>\n",
       "    .dataframe tbody tr th:only-of-type {\n",
       "        vertical-align: middle;\n",
       "    }\n",
       "\n",
       "    .dataframe tbody tr th {\n",
       "        vertical-align: top;\n",
       "    }\n",
       "\n",
       "    .dataframe thead th {\n",
       "        text-align: right;\n",
       "    }\n",
       "</style>\n",
       "<table border=\"1\" class=\"dataframe\">\n",
       "  <thead>\n",
       "    <tr style=\"text-align: right;\">\n",
       "      <th></th>\n",
       "      <th>data</th>\n",
       "      <th>label</th>\n",
       "    </tr>\n",
       "  </thead>\n",
       "  <tbody>\n",
       "    <tr>\n",
       "      <th>0</th>\n",
       "      <td>[[0.0, 0.0, 0.0, 1.0], [0.0, 0.0, 1.0, 0.0], [...</td>\n",
       "      <td>1</td>\n",
       "    </tr>\n",
       "    <tr>\n",
       "      <th>1</th>\n",
       "      <td>[[0.0, 0.0, 0.0, 1.0], [0.0, 0.0, 1.0, 0.0], [...</td>\n",
       "      <td>1</td>\n",
       "    </tr>\n",
       "    <tr>\n",
       "      <th>2</th>\n",
       "      <td>[[0.0, 0.0, 0.0, 1.0], [1.0, 0.0, 0.0, 0.0], [...</td>\n",
       "      <td>1</td>\n",
       "    </tr>\n",
       "    <tr>\n",
       "      <th>3</th>\n",
       "      <td>[[0.0, 0.0, 0.0, 1.0], [0.0, 1.0, 0.0, 0.0], [...</td>\n",
       "      <td>1</td>\n",
       "    </tr>\n",
       "    <tr>\n",
       "      <th>4</th>\n",
       "      <td>[[0.0, 0.0, 0.0, 1.0], [0.0, 0.0, 1.0, 0.0], [...</td>\n",
       "      <td>1</td>\n",
       "    </tr>\n",
       "    <tr>\n",
       "      <th>...</th>\n",
       "      <td>...</td>\n",
       "      <td>...</td>\n",
       "    </tr>\n",
       "    <tr>\n",
       "      <th>1413</th>\n",
       "      <td>[[0.0, 1.0, 0.0, 0.0], [0.0, 0.0, 0.0, 1.0], [...</td>\n",
       "      <td>0</td>\n",
       "    </tr>\n",
       "    <tr>\n",
       "      <th>1414</th>\n",
       "      <td>[[0.0, 1.0, 0.0, 0.0], [0.0, 1.0, 0.0, 0.0], [...</td>\n",
       "      <td>0</td>\n",
       "    </tr>\n",
       "    <tr>\n",
       "      <th>1415</th>\n",
       "      <td>[[0.0, 0.0, 0.0, 1.0], [1.0, 0.0, 0.0, 0.0], [...</td>\n",
       "      <td>0</td>\n",
       "    </tr>\n",
       "    <tr>\n",
       "      <th>1416</th>\n",
       "      <td>[[0.0, 0.0, 0.0, 1.0], [1.0, 0.0, 0.0, 0.0], [...</td>\n",
       "      <td>0</td>\n",
       "    </tr>\n",
       "    <tr>\n",
       "      <th>1417</th>\n",
       "      <td>[[1.0, 0.0, 0.0, 0.0], [1.0, 0.0, 0.0, 0.0], [...</td>\n",
       "      <td>0</td>\n",
       "    </tr>\n",
       "  </tbody>\n",
       "</table>\n",
       "<p>2836 rows × 2 columns</p>\n",
       "</div>"
      ],
      "text/plain": [
       "                                                   data  label\n",
       "0     [[0.0, 0.0, 0.0, 1.0], [0.0, 0.0, 1.0, 0.0], [...      1\n",
       "1     [[0.0, 0.0, 0.0, 1.0], [0.0, 0.0, 1.0, 0.0], [...      1\n",
       "2     [[0.0, 0.0, 0.0, 1.0], [1.0, 0.0, 0.0, 0.0], [...      1\n",
       "3     [[0.0, 0.0, 0.0, 1.0], [0.0, 1.0, 0.0, 0.0], [...      1\n",
       "4     [[0.0, 0.0, 0.0, 1.0], [0.0, 0.0, 1.0, 0.0], [...      1\n",
       "...                                                 ...    ...\n",
       "1413  [[0.0, 1.0, 0.0, 0.0], [0.0, 0.0, 0.0, 1.0], [...      0\n",
       "1414  [[0.0, 1.0, 0.0, 0.0], [0.0, 1.0, 0.0, 0.0], [...      0\n",
       "1415  [[0.0, 0.0, 0.0, 1.0], [1.0, 0.0, 0.0, 0.0], [...      0\n",
       "1416  [[0.0, 0.0, 0.0, 1.0], [1.0, 0.0, 0.0, 0.0], [...      0\n",
       "1417  [[1.0, 0.0, 0.0, 0.0], [1.0, 0.0, 0.0, 0.0], [...      0\n",
       "\n",
       "[2836 rows x 2 columns]"
      ]
     },
     "execution_count": 6,
     "metadata": {},
     "output_type": "execute_result"
    }
   ],
   "source": [
    "data_l1 = pd.concat([pos_l1, neg_l1])\n",
    "data_l1"
   ]
  },
  {
   "cell_type": "code",
   "execution_count": 7,
   "metadata": {
    "colab": {
     "base_uri": "https://localhost:8080/"
    },
    "executionInfo": {
     "elapsed": 722,
     "status": "ok",
     "timestamp": 1606063394678,
     "user": {
      "displayName": "N26091194鄧立昌",
      "photoUrl": "",
      "userId": "09046790946486703509"
     },
     "user_tz": -480
    },
    "id": "vm7eQtJrFble",
    "outputId": "fddd5c83-c938-4a95-bd0a-db7ad9991557"
   },
   "outputs": [
    {
     "data": {
      "text/plain": [
       "0       [[0.0, 0.0, 0.0, 1.0], [0.0, 0.0, 1.0, 0.0], [...\n",
       "1       [[0.0, 0.0, 0.0, 1.0], [0.0, 0.0, 1.0, 0.0], [...\n",
       "2       [[0.0, 0.0, 0.0, 1.0], [1.0, 0.0, 0.0, 0.0], [...\n",
       "3       [[0.0, 0.0, 0.0, 1.0], [0.0, 1.0, 0.0, 0.0], [...\n",
       "4       [[0.0, 0.0, 0.0, 1.0], [0.0, 0.0, 1.0, 0.0], [...\n",
       "                              ...                        \n",
       "1413    [[0.0, 1.0, 0.0, 0.0], [0.0, 0.0, 0.0, 1.0], [...\n",
       "1414    [[0.0, 1.0, 0.0, 0.0], [0.0, 1.0, 0.0, 0.0], [...\n",
       "1415    [[0.0, 0.0, 0.0, 1.0], [1.0, 0.0, 0.0, 0.0], [...\n",
       "1416    [[0.0, 0.0, 0.0, 1.0], [1.0, 0.0, 0.0, 0.0], [...\n",
       "1417    [[1.0, 0.0, 0.0, 0.0], [1.0, 0.0, 0.0, 0.0], [...\n",
       "Name: data, Length: 2836, dtype: object"
      ]
     },
     "execution_count": 7,
     "metadata": {},
     "output_type": "execute_result"
    }
   ],
   "source": [
    "X = data_l1['data']\n",
    "X"
   ]
  },
  {
   "cell_type": "code",
   "execution_count": 8,
   "metadata": {
    "colab": {
     "base_uri": "https://localhost:8080/"
    },
    "executionInfo": {
     "elapsed": 811,
     "status": "ok",
     "timestamp": 1606063396026,
     "user": {
      "displayName": "N26091194鄧立昌",
      "photoUrl": "",
      "userId": "09046790946486703509"
     },
     "user_tz": -480
    },
    "id": "XVlcvHd0FgcH",
    "outputId": "b67f25b6-5d51-43e3-da73-3a86a077b217"
   },
   "outputs": [
    {
     "data": {
      "text/plain": [
       "0       1\n",
       "1       1\n",
       "2       1\n",
       "3       1\n",
       "4       1\n",
       "       ..\n",
       "1413    0\n",
       "1414    0\n",
       "1415    0\n",
       "1416    0\n",
       "1417    0\n",
       "Name: label, Length: 2836, dtype: int64"
      ]
     },
     "execution_count": 8,
     "metadata": {},
     "output_type": "execute_result"
    }
   ],
   "source": [
    "y = data_l1['label']\n",
    "y"
   ]
  },
  {
   "cell_type": "markdown",
   "metadata": {
    "id": "jNlwnzvNlxog"
   },
   "source": [
    "### Data spliting to train / dev"
   ]
  },
  {
   "cell_type": "code",
   "execution_count": 9,
   "metadata": {
    "colab": {
     "base_uri": "https://localhost:8080/"
    },
    "executionInfo": {
     "elapsed": 708,
     "status": "ok",
     "timestamp": 1606063405488,
     "user": {
      "displayName": "N26091194鄧立昌",
      "photoUrl": "",
      "userId": "09046790946486703509"
     },
     "user_tz": -480
    },
    "id": "Y-jUE7AbluHD",
    "outputId": "f24ec988-ae5a-4a4c-8428-9506ea916b0f"
   },
   "outputs": [
    {
     "data": {
      "text/plain": [
       "1"
      ]
     },
     "execution_count": 9,
     "metadata": {},
     "output_type": "execute_result"
    }
   ],
   "source": [
    "from sklearn.model_selection import ShuffleSplit\n",
    "rs = ShuffleSplit(n_splits=1, test_size=0.1, random_state=0)\n",
    "rs.get_n_splits(X)"
   ]
  },
  {
   "cell_type": "code",
   "execution_count": 10,
   "metadata": {
    "colab": {
     "base_uri": "https://localhost:8080/"
    },
    "executionInfo": {
     "elapsed": 695,
     "status": "ok",
     "timestamp": 1606063439752,
     "user": {
      "displayName": "N26091194鄧立昌",
      "photoUrl": "",
      "userId": "09046790946486703509"
     },
     "user_tz": -480
    },
    "id": "kb71Or23lzvT",
    "outputId": "80a6492d-661c-487f-86d3-82ffc419bca8"
   },
   "outputs": [
    {
     "name": "stdout",
     "output_type": "stream",
     "text": [
      "Train data: 2552\n",
      "Test data: 284\n"
     ]
    }
   ],
   "source": [
    "for train_index, test_index in rs.split(X):\n",
    "  print(\"Train data:\", len(train_index)) \n",
    "  print(\"Test data:\", len(test_index))"
   ]
  },
  {
   "cell_type": "code",
   "execution_count": 11,
   "metadata": {
    "colab": {
     "base_uri": "https://localhost:8080/",
     "height": 419
    },
    "executionInfo": {
     "elapsed": 1059,
     "status": "ok",
     "timestamp": 1606063601013,
     "user": {
      "displayName": "N26091194鄧立昌",
      "photoUrl": "",
      "userId": "09046790946486703509"
     },
     "user_tz": -480
    },
    "id": "4hpjfTrOl2_k",
    "outputId": "0be248ca-2897-4465-a880-3c3b00ee2b43"
   },
   "outputs": [
    {
     "data": {
      "text/html": [
       "<div>\n",
       "<style scoped>\n",
       "    .dataframe tbody tr th:only-of-type {\n",
       "        vertical-align: middle;\n",
       "    }\n",
       "\n",
       "    .dataframe tbody tr th {\n",
       "        vertical-align: top;\n",
       "    }\n",
       "\n",
       "    .dataframe thead th {\n",
       "        text-align: right;\n",
       "    }\n",
       "</style>\n",
       "<table border=\"1\" class=\"dataframe\">\n",
       "  <thead>\n",
       "    <tr style=\"text-align: right;\">\n",
       "      <th></th>\n",
       "      <th>data</th>\n",
       "      <th>label</th>\n",
       "    </tr>\n",
       "  </thead>\n",
       "  <tbody>\n",
       "    <tr>\n",
       "      <th>1417</th>\n",
       "      <td>[[1.0, 0.0, 0.0, 0.0], [1.0, 0.0, 0.0, 0.0], [...</td>\n",
       "      <td>0</td>\n",
       "    </tr>\n",
       "    <tr>\n",
       "      <th>924</th>\n",
       "      <td>[[0.0, 0.0, 0.0, 1.0], [0.0, 1.0, 0.0, 0.0], [...</td>\n",
       "      <td>1</td>\n",
       "    </tr>\n",
       "    <tr>\n",
       "      <th>1354</th>\n",
       "      <td>[[0.0, 1.0, 0.0, 0.0], [0.0, 0.0, 1.0, 0.0], [...</td>\n",
       "      <td>0</td>\n",
       "    </tr>\n",
       "    <tr>\n",
       "      <th>169</th>\n",
       "      <td>[[0.0, 0.0, 0.0, 1.0], [0.0, 0.0, 0.0, 1.0], [...</td>\n",
       "      <td>1</td>\n",
       "    </tr>\n",
       "    <tr>\n",
       "      <th>454</th>\n",
       "      <td>[[0.0, 0.0, 0.0, 1.0], [0.0, 0.0, 1.0, 0.0], [...</td>\n",
       "      <td>1</td>\n",
       "    </tr>\n",
       "    <tr>\n",
       "      <th>...</th>\n",
       "      <td>...</td>\n",
       "      <td>...</td>\n",
       "    </tr>\n",
       "    <tr>\n",
       "      <th>763</th>\n",
       "      <td>[[0.0, 0.0, 0.0, 1.0], [1.0, 0.0, 0.0, 0.0], [...</td>\n",
       "      <td>1</td>\n",
       "    </tr>\n",
       "    <tr>\n",
       "      <th>835</th>\n",
       "      <td>[[0.0, 0.0, 0.0, 1.0], [0.0, 0.0, 1.0, 0.0], [...</td>\n",
       "      <td>1</td>\n",
       "    </tr>\n",
       "    <tr>\n",
       "      <th>235</th>\n",
       "      <td>[[0.0, 0.0, 1.0, 0.0], [1.0, 0.0, 0.0, 0.0], [...</td>\n",
       "      <td>0</td>\n",
       "    </tr>\n",
       "    <tr>\n",
       "      <th>1189</th>\n",
       "      <td>[[0.0, 0.0, 0.0, 1.0], [0.0, 1.0, 0.0, 0.0], [...</td>\n",
       "      <td>0</td>\n",
       "    </tr>\n",
       "    <tr>\n",
       "      <th>1314</th>\n",
       "      <td>[[1.0, 0.0, 0.0, 0.0], [0.0, 1.0, 0.0, 0.0], [...</td>\n",
       "      <td>0</td>\n",
       "    </tr>\n",
       "  </tbody>\n",
       "</table>\n",
       "<p>2552 rows × 2 columns</p>\n",
       "</div>"
      ],
      "text/plain": [
       "                                                   data  label\n",
       "1417  [[1.0, 0.0, 0.0, 0.0], [1.0, 0.0, 0.0, 0.0], [...      0\n",
       "924   [[0.0, 0.0, 0.0, 1.0], [0.0, 1.0, 0.0, 0.0], [...      1\n",
       "1354  [[0.0, 1.0, 0.0, 0.0], [0.0, 0.0, 1.0, 0.0], [...      0\n",
       "169   [[0.0, 0.0, 0.0, 1.0], [0.0, 0.0, 0.0, 1.0], [...      1\n",
       "454   [[0.0, 0.0, 0.0, 1.0], [0.0, 0.0, 1.0, 0.0], [...      1\n",
       "...                                                 ...    ...\n",
       "763   [[0.0, 0.0, 0.0, 1.0], [1.0, 0.0, 0.0, 0.0], [...      1\n",
       "835   [[0.0, 0.0, 0.0, 1.0], [0.0, 0.0, 1.0, 0.0], [...      1\n",
       "235   [[0.0, 0.0, 1.0, 0.0], [1.0, 0.0, 0.0, 0.0], [...      0\n",
       "1189  [[0.0, 0.0, 0.0, 1.0], [0.0, 1.0, 0.0, 0.0], [...      0\n",
       "1314  [[1.0, 0.0, 0.0, 0.0], [0.0, 1.0, 0.0, 0.0], [...      0\n",
       "\n",
       "[2552 rows x 2 columns]"
      ]
     },
     "execution_count": 11,
     "metadata": {},
     "output_type": "execute_result"
    }
   ],
   "source": [
    "train_df_l1 = data_l1.iloc[train_index]\n",
    "train_df_l1"
   ]
  },
  {
   "cell_type": "code",
   "execution_count": 12,
   "metadata": {
    "colab": {
     "base_uri": "https://localhost:8080/"
    },
    "executionInfo": {
     "elapsed": 723,
     "status": "ok",
     "timestamp": 1606063622232,
     "user": {
      "displayName": "N26091194鄧立昌",
      "photoUrl": "",
      "userId": "09046790946486703509"
     },
     "user_tz": -480
    },
    "id": "LHaBm_I9l4sC",
    "outputId": "29774d19-0b81-4875-d96f-85e8bfcd1a37"
   },
   "outputs": [
    {
     "name": "stdout",
     "output_type": "stream",
     "text": [
      "label = 1(Pos) in train:  1275\n",
      "label = 0(Neg) in train:  1277\n"
     ]
    }
   ],
   "source": [
    "print('label = 1(Pos) in train: ', len(train_df_l1[train_df_l1['label']==1]))\n",
    "print('label = 0(Neg) in train: ', len(train_df_l1[train_df_l1['label']==0]))"
   ]
  },
  {
   "cell_type": "markdown",
   "metadata": {
    "id": "FhplZGfGma9-"
   },
   "source": [
    "**Testing set**"
   ]
  },
  {
   "cell_type": "code",
   "execution_count": 13,
   "metadata": {
    "colab": {
     "base_uri": "https://localhost:8080/",
     "height": 419
    },
    "executionInfo": {
     "elapsed": 698,
     "status": "ok",
     "timestamp": 1606063674074,
     "user": {
      "displayName": "N26091194鄧立昌",
      "photoUrl": "",
      "userId": "09046790946486703509"
     },
     "user_tz": -480
    },
    "id": "72Yu2ES7l7or",
    "outputId": "31dee333-b86e-4df3-9e45-6231e76bb315"
   },
   "outputs": [
    {
     "data": {
      "text/html": [
       "<div>\n",
       "<style scoped>\n",
       "    .dataframe tbody tr th:only-of-type {\n",
       "        vertical-align: middle;\n",
       "    }\n",
       "\n",
       "    .dataframe tbody tr th {\n",
       "        vertical-align: top;\n",
       "    }\n",
       "\n",
       "    .dataframe thead th {\n",
       "        text-align: right;\n",
       "    }\n",
       "</style>\n",
       "<table border=\"1\" class=\"dataframe\">\n",
       "  <thead>\n",
       "    <tr style=\"text-align: right;\">\n",
       "      <th></th>\n",
       "      <th>data</th>\n",
       "      <th>label</th>\n",
       "    </tr>\n",
       "  </thead>\n",
       "  <tbody>\n",
       "    <tr>\n",
       "      <th>982</th>\n",
       "      <td>[[0.0, 0.0, 0.0, 1.0], [1.0, 0.0, 0.0, 0.0], [...</td>\n",
       "      <td>1</td>\n",
       "    </tr>\n",
       "    <tr>\n",
       "      <th>683</th>\n",
       "      <td>[[0.0, 0.0, 0.0, 1.0], [1.0, 0.0, 0.0, 0.0], [...</td>\n",
       "      <td>1</td>\n",
       "    </tr>\n",
       "    <tr>\n",
       "      <th>195</th>\n",
       "      <td>[[0.0, 0.0, 0.0, 1.0], [0.0, 0.0, 0.0, 1.0], [...</td>\n",
       "      <td>1</td>\n",
       "    </tr>\n",
       "    <tr>\n",
       "      <th>738</th>\n",
       "      <td>[[0.0, 0.0, 0.0, 1.0], [1.0, 0.0, 0.0, 0.0], [...</td>\n",
       "      <td>0</td>\n",
       "    </tr>\n",
       "    <tr>\n",
       "      <th>136</th>\n",
       "      <td>[[0.0, 0.0, 1.0, 0.0], [0.0, 0.0, 0.0, 1.0], [...</td>\n",
       "      <td>0</td>\n",
       "    </tr>\n",
       "    <tr>\n",
       "      <th>...</th>\n",
       "      <td>...</td>\n",
       "      <td>...</td>\n",
       "    </tr>\n",
       "    <tr>\n",
       "      <th>470</th>\n",
       "      <td>[[0.0, 0.0, 0.0, 1.0], [0.0, 0.0, 1.0, 0.0], [...</td>\n",
       "      <td>0</td>\n",
       "    </tr>\n",
       "    <tr>\n",
       "      <th>1146</th>\n",
       "      <td>[[0.0, 0.0, 0.0, 1.0], [0.0, 0.0, 0.0, 1.0], [...</td>\n",
       "      <td>0</td>\n",
       "    </tr>\n",
       "    <tr>\n",
       "      <th>1333</th>\n",
       "      <td>[[0.0, 1.0, 0.0, 0.0], [1.0, 0.0, 0.0, 0.0], [...</td>\n",
       "      <td>0</td>\n",
       "    </tr>\n",
       "    <tr>\n",
       "      <th>661</th>\n",
       "      <td>[[0.0, 1.0, 0.0, 0.0], [0.0, 0.0, 0.0, 1.0], [...</td>\n",
       "      <td>0</td>\n",
       "    </tr>\n",
       "    <tr>\n",
       "      <th>1043</th>\n",
       "      <td>[[0.0, 0.0, 0.0, 1.0], [1.0, 0.0, 0.0, 0.0], [...</td>\n",
       "      <td>1</td>\n",
       "    </tr>\n",
       "  </tbody>\n",
       "</table>\n",
       "<p>284 rows × 2 columns</p>\n",
       "</div>"
      ],
      "text/plain": [
       "                                                   data  label\n",
       "982   [[0.0, 0.0, 0.0, 1.0], [1.0, 0.0, 0.0, 0.0], [...      1\n",
       "683   [[0.0, 0.0, 0.0, 1.0], [1.0, 0.0, 0.0, 0.0], [...      1\n",
       "195   [[0.0, 0.0, 0.0, 1.0], [0.0, 0.0, 0.0, 1.0], [...      1\n",
       "738   [[0.0, 0.0, 0.0, 1.0], [1.0, 0.0, 0.0, 0.0], [...      0\n",
       "136   [[0.0, 0.0, 1.0, 0.0], [0.0, 0.0, 0.0, 1.0], [...      0\n",
       "...                                                 ...    ...\n",
       "470   [[0.0, 0.0, 0.0, 1.0], [0.0, 0.0, 1.0, 0.0], [...      0\n",
       "1146  [[0.0, 0.0, 0.0, 1.0], [0.0, 0.0, 0.0, 1.0], [...      0\n",
       "1333  [[0.0, 1.0, 0.0, 0.0], [1.0, 0.0, 0.0, 0.0], [...      0\n",
       "661   [[0.0, 1.0, 0.0, 0.0], [0.0, 0.0, 0.0, 1.0], [...      0\n",
       "1043  [[0.0, 0.0, 0.0, 1.0], [1.0, 0.0, 0.0, 0.0], [...      1\n",
       "\n",
       "[284 rows x 2 columns]"
      ]
     },
     "execution_count": 13,
     "metadata": {},
     "output_type": "execute_result"
    }
   ],
   "source": [
    "test_df_l1 = data_l1.iloc[test_index]\n",
    "test_df_l1.to_pickle(\"./Datasets/test_df_l1.pkl\")\n",
    "test_df_l1"
   ]
  },
  {
   "cell_type": "code",
   "execution_count": 14,
   "metadata": {
    "colab": {
     "base_uri": "https://localhost:8080/"
    },
    "executionInfo": {
     "elapsed": 695,
     "status": "ok",
     "timestamp": 1606063695926,
     "user": {
      "displayName": "N26091194鄧立昌",
      "photoUrl": "",
      "userId": "09046790946486703509"
     },
     "user_tz": -480
    },
    "id": "46dtQ4eFmjU8",
    "outputId": "34ab9df5-b3e8-499b-d487-04ba750a0b5e"
   },
   "outputs": [
    {
     "name": "stdout",
     "output_type": "stream",
     "text": [
      "label = 1(POS) in test:  143\n",
      "label = 0(NEG) in test:  141\n"
     ]
    }
   ],
   "source": [
    "print('label = 1(POS) in test: ', len(test_df_l1[test_df_l1['label']==1]))\n",
    "print('label = 0(NEG) in test: ', len(test_df_l1[test_df_l1['label']==0]))"
   ]
  },
  {
   "cell_type": "markdown",
   "metadata": {
    "id": "qVuC4u4722E2"
   },
   "source": [
    "### K-fold"
   ]
  },
  {
   "cell_type": "code",
   "execution_count": 15,
   "metadata": {
    "id": "RLy7lwXF29vm"
   },
   "outputs": [],
   "source": [
    "from sklearn.model_selection import StratifiedShuffleSplit\n",
    "sss = StratifiedShuffleSplit(n_splits=5, test_size=0.2, random_state=0)"
   ]
  },
  {
   "cell_type": "code",
   "execution_count": 16,
   "metadata": {
    "colab": {
     "base_uri": "https://localhost:8080/"
    },
    "executionInfo": {
     "elapsed": 878,
     "status": "ok",
     "timestamp": 1606063769075,
     "user": {
      "displayName": "N26091194鄧立昌",
      "photoUrl": "",
      "userId": "09046790946486703509"
     },
     "user_tz": -480
    },
    "id": "BsLY0JkF3AIf",
    "outputId": "7216e774-61e6-4a12-ef8c-a571fea4470b"
   },
   "outputs": [
    {
     "data": {
      "text/plain": [
       "1417    [[1.0, 0.0, 0.0, 0.0], [1.0, 0.0, 0.0, 0.0], [...\n",
       "924     [[0.0, 0.0, 0.0, 1.0], [0.0, 1.0, 0.0, 0.0], [...\n",
       "1354    [[0.0, 1.0, 0.0, 0.0], [0.0, 0.0, 1.0, 0.0], [...\n",
       "169     [[0.0, 0.0, 0.0, 1.0], [0.0, 0.0, 0.0, 1.0], [...\n",
       "454     [[0.0, 0.0, 0.0, 1.0], [0.0, 0.0, 1.0, 0.0], [...\n",
       "                              ...                        \n",
       "763     [[0.0, 0.0, 0.0, 1.0], [1.0, 0.0, 0.0, 0.0], [...\n",
       "835     [[0.0, 0.0, 0.0, 1.0], [0.0, 0.0, 1.0, 0.0], [...\n",
       "235     [[0.0, 0.0, 1.0, 0.0], [1.0, 0.0, 0.0, 0.0], [...\n",
       "1189    [[0.0, 0.0, 0.0, 1.0], [0.0, 1.0, 0.0, 0.0], [...\n",
       "1314    [[1.0, 0.0, 0.0, 0.0], [0.0, 1.0, 0.0, 0.0], [...\n",
       "Name: data, Length: 2552, dtype: object"
      ]
     },
     "execution_count": 16,
     "metadata": {},
     "output_type": "execute_result"
    }
   ],
   "source": [
    "X = train_df_l1['data']\n",
    "X"
   ]
  },
  {
   "cell_type": "code",
   "execution_count": 17,
   "metadata": {
    "colab": {
     "base_uri": "https://localhost:8080/"
    },
    "executionInfo": {
     "elapsed": 685,
     "status": "ok",
     "timestamp": 1606063785955,
     "user": {
      "displayName": "N26091194鄧立昌",
      "photoUrl": "",
      "userId": "09046790946486703509"
     },
     "user_tz": -480
    },
    "id": "C3NPirWx3GNb",
    "outputId": "72ffce8d-ed68-4a50-e887-2447a940d7ba"
   },
   "outputs": [
    {
     "data": {
      "text/plain": [
       "1417    0\n",
       "924     1\n",
       "1354    0\n",
       "169     1\n",
       "454     1\n",
       "       ..\n",
       "763     1\n",
       "835     1\n",
       "235     0\n",
       "1189    0\n",
       "1314    0\n",
       "Name: label, Length: 2552, dtype: int64"
      ]
     },
     "execution_count": 17,
     "metadata": {},
     "output_type": "execute_result"
    }
   ],
   "source": [
    "y = train_df_l1['label']\n",
    "y"
   ]
  },
  {
   "cell_type": "code",
   "execution_count": 18,
   "metadata": {
    "colab": {
     "base_uri": "https://localhost:8080/"
    },
    "executionInfo": {
     "elapsed": 729,
     "status": "ok",
     "timestamp": 1606063790568,
     "user": {
      "displayName": "N26091194鄧立昌",
      "photoUrl": "",
      "userId": "09046790946486703509"
     },
     "user_tz": -480
    },
    "id": "SIkbeVUNFmgk",
    "outputId": "0ee694dc-1b19-47c0-ce8a-13c0a64d6e01"
   },
   "outputs": [
    {
     "data": {
      "text/plain": [
       "5"
      ]
     },
     "execution_count": 18,
     "metadata": {},
     "output_type": "execute_result"
    }
   ],
   "source": [
    "sss.get_n_splits(X, y)"
   ]
  },
  {
   "cell_type": "code",
   "execution_count": 19,
   "metadata": {
    "colab": {
     "base_uri": "https://localhost:8080/"
    },
    "executionInfo": {
     "elapsed": 1281,
     "status": "ok",
     "timestamp": 1606063813607,
     "user": {
      "displayName": "N26091194鄧立昌",
      "photoUrl": "",
      "userId": "09046790946486703509"
     },
     "user_tz": -480
    },
    "id": "woiznuFGFusl",
    "outputId": "139f73b8-0baf-41ba-dc4e-c363961cdd15"
   },
   "outputs": [
    {
     "name": "stdout",
     "output_type": "stream",
     "text": [
      "train:\n",
      "                                                   data  label\n",
      "125   [[0.0, 1.0, 0.0, 0.0], [1.0, 0.0, 0.0, 0.0], [...      0\n",
      "771   [[0.0, 0.0, 0.0, 1.0], [0.0, 0.0, 1.0, 0.0], [...      1\n",
      "881   [[0.0, 1.0, 0.0, 0.0], [0.0, 1.0, 0.0, 0.0], [...      0\n",
      "963   [[0.0, 0.0, 0.0, 1.0], [0.0, 1.0, 0.0, 0.0], [...      0\n",
      "1043  [[0.0, 1.0, 0.0, 0.0], [0.0, 0.0, 0.0, 1.0], [...      0\n",
      "...                                                 ...    ...\n",
      "68    [[0.0, 0.0, 0.0, 1.0], [0.0, 1.0, 0.0, 0.0], [...      1\n",
      "1342  [[0.0, 0.0, 0.0, 1.0], [0.0, 0.0, 0.0, 1.0], [...      0\n",
      "301   [[0.0, 0.0, 1.0, 0.0], [0.0, 0.0, 0.0, 1.0], [...      0\n",
      "63    [[0.0, 0.0, 0.0, 1.0], [0.0, 0.0, 1.0, 0.0], [...      1\n",
      "41    [[0.0, 0.0, 1.0, 0.0], [0.0, 0.0, 1.0, 0.0], [...      0\n",
      "\n",
      "[2041 rows x 2 columns]\n",
      "valid:\n",
      "                                                   data  label\n",
      "389   [[0.0, 0.0, 0.0, 1.0], [0.0, 0.0, 0.0, 1.0], [...      1\n",
      "1266  [[0.0, 1.0, 0.0, 0.0], [1.0, 0.0, 0.0, 0.0], [...      0\n",
      "147   [[0.0, 1.0, 0.0, 0.0], [0.0, 1.0, 0.0, 0.0], [...      0\n",
      "149   [[0.0, 1.0, 0.0, 0.0], [0.0, 0.0, 1.0, 0.0], [...      0\n",
      "941   [[0.0, 0.0, 0.0, 1.0], [0.0, 0.0, 1.0, 0.0], [...      1\n",
      "...                                                 ...    ...\n",
      "1391  [[0.0, 0.0, 0.0, 1.0], [1.0, 0.0, 0.0, 0.0], [...      0\n",
      "1021  [[0.0, 0.0, 0.0, 1.0], [1.0, 0.0, 0.0, 0.0], [...      1\n",
      "1142  [[0.0, 0.0, 0.0, 1.0], [0.0, 0.0, 0.0, 1.0], [...      0\n",
      "771   [[0.0, 0.0, 1.0, 0.0], [1.0, 0.0, 0.0, 0.0], [...      0\n",
      "281   [[0.0, 0.0, 0.0, 1.0], [0.0, 1.0, 0.0, 0.0], [...      1\n",
      "\n",
      "[511 rows x 2 columns]\n",
      "label = 1(POS) in train:  1020\n",
      "label = 0(NEG) in train:  1021\n",
      "label = 1(POS) in valid:  255\n",
      "label = 0(NEG) in valid:  256\n",
      "--------------------------------------------------------------------------------\n",
      "train:\n",
      "                                                   data  label\n",
      "1035  [[1.0, 0.0, 0.0, 0.0], [1.0, 0.0, 0.0, 0.0], [...      0\n",
      "1207  [[0.0, 0.0, 0.0, 1.0], [0.0, 1.0, 0.0, 0.0], [...      1\n",
      "1044  [[0.0, 0.0, 0.0, 1.0], [0.0, 0.0, 1.0, 0.0], [...      1\n",
      "1160  [[0.0, 0.0, 0.0, 1.0], [1.0, 0.0, 0.0, 0.0], [...      1\n",
      "1065  [[0.0, 0.0, 0.0, 1.0], [0.0, 0.0, 1.0, 0.0], [...      1\n",
      "...                                                 ...    ...\n",
      "581   [[0.0, 0.0, 0.0, 1.0], [0.0, 0.0, 1.0, 0.0], [...      1\n",
      "1365  [[0.0, 0.0, 0.0, 1.0], [0.0, 0.0, 1.0, 0.0], [...      1\n",
      "1223  [[0.0, 0.0, 0.0, 1.0], [0.0, 1.0, 0.0, 0.0], [...      1\n",
      "129   [[0.0, 1.0, 0.0, 0.0], [0.0, 0.0, 0.0, 1.0], [...      0\n",
      "891   [[0.0, 0.0, 0.0, 1.0], [0.0, 0.0, 0.0, 1.0], [...      1\n",
      "\n",
      "[2041 rows x 2 columns]\n",
      "valid:\n",
      "                                                   data  label\n",
      "922   [[0.0, 0.0, 0.0, 1.0], [0.0, 0.0, 1.0, 0.0], [...      1\n",
      "233   [[0.0, 0.0, 0.0, 1.0], [0.0, 0.0, 1.0, 0.0], [...      1\n",
      "72    [[0.0, 0.0, 0.0, 1.0], [0.0, 0.0, 1.0, 0.0], [...      0\n",
      "177   [[0.0, 0.0, 0.0, 1.0], [0.0, 0.0, 1.0, 0.0], [...      1\n",
      "576   [[1.0, 0.0, 0.0, 0.0], [0.0, 0.0, 1.0, 0.0], [...      0\n",
      "...                                                 ...    ...\n",
      "198   [[0.0, 0.0, 0.0, 1.0], [0.0, 0.0, 1.0, 0.0], [...      0\n",
      "1060  [[0.0, 0.0, 0.0, 1.0], [0.0, 1.0, 0.0, 0.0], [...      1\n",
      "482   [[0.0, 0.0, 0.0, 1.0], [0.0, 0.0, 0.0, 1.0], [...      1\n",
      "342   [[0.0, 0.0, 0.0, 1.0], [0.0, 1.0, 0.0, 0.0], [...      1\n",
      "300   [[0.0, 0.0, 0.0, 1.0], [1.0, 0.0, 0.0, 0.0], [...      1\n",
      "\n",
      "[511 rows x 2 columns]\n",
      "label = 1(POS) in train:  1020\n",
      "label = 0(NEG) in train:  1021\n",
      "label = 1(POS) in valid:  255\n",
      "label = 0(NEG) in valid:  256\n",
      "--------------------------------------------------------------------------------\n",
      "train:\n",
      "                                                   data  label\n",
      "784   [[0.0, 0.0, 0.0, 1.0], [0.0, 0.0, 1.0, 0.0], [...      1\n",
      "623   [[0.0, 0.0, 0.0, 1.0], [1.0, 0.0, 0.0, 0.0], [...      1\n",
      "441   [[0.0, 0.0, 0.0, 1.0], [1.0, 0.0, 0.0, 0.0], [...      1\n",
      "1242  [[0.0, 0.0, 0.0, 1.0], [0.0, 1.0, 0.0, 0.0], [...      1\n",
      "803   [[0.0, 0.0, 0.0, 1.0], [1.0, 0.0, 0.0, 0.0], [...      0\n",
      "...                                                 ...    ...\n",
      "894   [[1.0, 0.0, 0.0, 0.0], [1.0, 0.0, 0.0, 0.0], [...      0\n",
      "742   [[0.0, 0.0, 1.0, 0.0], [1.0, 0.0, 0.0, 0.0], [...      0\n",
      "158   [[0.0, 1.0, 0.0, 0.0], [0.0, 0.0, 1.0, 0.0], [...      0\n",
      "929   [[0.0, 0.0, 1.0, 0.0], [0.0, 0.0, 0.0, 1.0], [...      0\n",
      "157   [[0.0, 0.0, 0.0, 1.0], [1.0, 0.0, 0.0, 0.0], [...      0\n",
      "\n",
      "[2041 rows x 2 columns]\n",
      "valid:\n",
      "                                                   data  label\n",
      "1381  [[1.0, 0.0, 0.0, 0.0], [1.0, 0.0, 0.0, 0.0], [...      0\n",
      "584   [[1.0, 0.0, 0.0, 0.0], [0.0, 0.0, 0.0, 1.0], [...      0\n",
      "475   [[1.0, 0.0, 0.0, 0.0], [0.0, 0.0, 1.0, 0.0], [...      0\n",
      "118   [[0.0, 0.0, 0.0, 1.0], [0.0, 1.0, 0.0, 0.0], [...      0\n",
      "1377  [[0.0, 0.0, 0.0, 1.0], [0.0, 1.0, 0.0, 0.0], [...      0\n",
      "...                                                 ...    ...\n",
      "13    [[1.0, 0.0, 0.0, 0.0], [0.0, 0.0, 1.0, 0.0], [...      0\n",
      "500   [[0.0, 0.0, 0.0, 1.0], [0.0, 0.0, 0.0, 1.0], [...      1\n",
      "412   [[0.0, 0.0, 1.0, 0.0], [0.0, 1.0, 0.0, 0.0], [...      0\n",
      "581   [[0.0, 0.0, 0.0, 1.0], [0.0, 1.0, 0.0, 0.0], [...      0\n",
      "1078  [[0.0, 0.0, 0.0, 1.0], [0.0, 0.0, 1.0, 0.0], [...      1\n",
      "\n",
      "[511 rows x 2 columns]\n",
      "label = 1(POS) in train:  1020\n",
      "label = 0(NEG) in train:  1021\n",
      "label = 1(POS) in valid:  255\n",
      "label = 0(NEG) in valid:  256\n",
      "--------------------------------------------------------------------------------\n",
      "train:\n",
      "                                                   data  label\n",
      "842   [[0.0, 0.0, 1.0, 0.0], [1.0, 0.0, 0.0, 0.0], [...      0\n",
      "366   [[0.0, 0.0, 0.0, 1.0], [0.0, 0.0, 0.0, 1.0], [...      1\n",
      "84    [[0.0, 0.0, 0.0, 1.0], [0.0, 1.0, 0.0, 0.0], [...      1\n",
      "781   [[0.0, 0.0, 0.0, 1.0], [0.0, 0.0, 1.0, 0.0], [...      1\n",
      "73    [[1.0, 0.0, 0.0, 0.0], [0.0, 0.0, 1.0, 0.0], [...      0\n",
      "...                                                 ...    ...\n",
      "1402  [[1.0, 0.0, 0.0, 0.0], [1.0, 0.0, 0.0, 0.0], [...      0\n",
      "975   [[0.0, 0.0, 0.0, 1.0], [0.0, 1.0, 0.0, 0.0], [...      1\n",
      "280   [[0.0, 0.0, 1.0, 0.0], [1.0, 0.0, 0.0, 0.0], [...      0\n",
      "1221  [[0.0, 0.0, 0.0, 1.0], [1.0, 0.0, 0.0, 0.0], [...      1\n",
      "134   [[0.0, 0.0, 0.0, 1.0], [0.0, 1.0, 0.0, 0.0], [...      1\n",
      "\n",
      "[2041 rows x 2 columns]\n",
      "valid:\n",
      "                                                   data  label\n",
      "62    [[0.0, 0.0, 0.0, 1.0], [1.0, 0.0, 0.0, 0.0], [...      1\n",
      "160   [[0.0, 0.0, 0.0, 1.0], [0.0, 0.0, 0.0, 1.0], [...      0\n",
      "97    [[0.0, 0.0, 0.0, 1.0], [1.0, 0.0, 0.0, 0.0], [...      1\n",
      "1389  [[0.0, 0.0, 0.0, 1.0], [1.0, 0.0, 0.0, 0.0], [...      0\n",
      "379   [[1.0, 0.0, 0.0, 0.0], [0.0, 0.0, 1.0, 0.0], [...      0\n",
      "...                                                 ...    ...\n",
      "776   [[0.0, 1.0, 0.0, 0.0], [0.0, 0.0, 0.0, 1.0], [...      0\n",
      "108   [[0.0, 0.0, 0.0, 1.0], [0.0, 0.0, 1.0, 0.0], [...      1\n",
      "1074  [[0.0, 0.0, 1.0, 0.0], [0.0, 1.0, 0.0, 0.0], [...      0\n",
      "322   [[0.0, 0.0, 0.0, 1.0], [1.0, 0.0, 0.0, 0.0], [...      1\n",
      "547   [[0.0, 0.0, 0.0, 1.0], [0.0, 0.0, 1.0, 0.0], [...      0\n",
      "\n",
      "[511 rows x 2 columns]\n",
      "label = 1(POS) in train:  1020\n",
      "label = 0(NEG) in train:  1021\n",
      "label = 1(POS) in valid:  255\n",
      "label = 0(NEG) in valid:  256\n",
      "--------------------------------------------------------------------------------\n",
      "train:\n",
      "                                                   data  label\n",
      "1264  [[1.0, 0.0, 0.0, 0.0], [0.0, 1.0, 0.0, 0.0], [...      0\n",
      "1041  [[0.0, 0.0, 0.0, 1.0], [0.0, 0.0, 1.0, 0.0], [...      0\n",
      "113   [[0.0, 0.0, 0.0, 1.0], [0.0, 0.0, 1.0, 0.0], [...      1\n",
      "1411  [[0.0, 1.0, 0.0, 0.0], [0.0, 0.0, 0.0, 1.0], [...      0\n",
      "1098  [[0.0, 0.0, 0.0, 1.0], [1.0, 0.0, 0.0, 0.0], [...      1\n",
      "...                                                 ...    ...\n",
      "333   [[0.0, 0.0, 1.0, 0.0], [0.0, 1.0, 0.0, 0.0], [...      0\n",
      "1241  [[0.0, 1.0, 0.0, 0.0], [0.0, 0.0, 1.0, 0.0], [...      0\n",
      "369   [[0.0, 0.0, 0.0, 1.0], [0.0, 0.0, 1.0, 0.0], [...      1\n",
      "1355  [[0.0, 0.0, 0.0, 1.0], [0.0, 0.0, 1.0, 0.0], [...      1\n",
      "42    [[0.0, 0.0, 0.0, 1.0], [0.0, 0.0, 1.0, 0.0], [...      1\n",
      "\n",
      "[2041 rows x 2 columns]\n",
      "valid:\n",
      "                                                   data  label\n",
      "423   [[1.0, 0.0, 0.0, 0.0], [0.0, 0.0, 1.0, 0.0], [...      0\n",
      "240   [[0.0, 0.0, 0.0, 1.0], [1.0, 0.0, 0.0, 0.0], [...      1\n",
      "1334  [[0.0, 1.0, 0.0, 0.0], [0.0, 0.0, 0.0, 1.0], [...      0\n",
      "323   [[0.0, 0.0, 0.0, 1.0], [0.0, 0.0, 0.0, 1.0], [...      0\n",
      "937   [[1.0, 0.0, 0.0, 0.0], [0.0, 0.0, 1.0, 0.0], [...      0\n",
      "...                                                 ...    ...\n",
      "319   [[1.0, 0.0, 0.0, 0.0], [0.0, 1.0, 0.0, 0.0], [...      0\n",
      "762   [[1.0, 0.0, 0.0, 0.0], [0.0, 1.0, 0.0, 0.0], [...      0\n",
      "1158  [[0.0, 0.0, 0.0, 1.0], [0.0, 0.0, 1.0, 0.0], [...      1\n",
      "1369  [[0.0, 1.0, 0.0, 0.0], [1.0, 0.0, 0.0, 0.0], [...      0\n",
      "99    [[0.0, 0.0, 0.0, 1.0], [0.0, 0.0, 1.0, 0.0], [...      1\n",
      "\n",
      "[511 rows x 2 columns]\n",
      "label = 1(POS) in train:  1020\n",
      "label = 0(NEG) in train:  1021\n",
      "label = 1(POS) in valid:  255\n",
      "label = 0(NEG) in valid:  256\n",
      "--------------------------------------------------------------------------------\n"
     ]
    }
   ],
   "source": [
    "train_cv_l1 = {}\n",
    "\n",
    "for i, (train_index, test_index) in enumerate(sss.split(X, y)):\n",
    "  train_cv_l1['train'+str(i)] = pd.DataFrame({'data': X.iloc[train_index],'label': y.iloc[train_index]} )\n",
    "  train_cv_l1['cv'+str(i)] = pd.DataFrame({'data': X.iloc[test_index],'label': y.iloc[test_index]} )\n",
    "  a = y.iloc[train_index]\n",
    "  b = y.iloc[test_index]\n",
    "  print('train:')\n",
    "  print(train_cv_l1['train'+str(i)])\n",
    "  print('valid:')\n",
    "  print(train_cv_l1['cv'+str(i)])\n",
    "  print('label = 1(POS) in train: ',len(a[a == 1]))\n",
    "  print('label = 0(NEG) in train: ',len(a[a == 0]))\n",
    "  print('label = 1(POS) in valid: ',len(b[b == 1]))\n",
    "  print('label = 0(NEG) in valid: ',len(b[b == 0]))\n",
    "  print('-'*80)"
   ]
  },
  {
   "cell_type": "markdown",
   "metadata": {
    "id": "w0E6Gg-moA4v"
   },
   "source": [
    "### save as pickle files"
   ]
  },
  {
   "cell_type": "code",
   "execution_count": 20,
   "metadata": {
    "colab": {
     "base_uri": "https://localhost:8080/",
     "height": 419
    },
    "executionInfo": {
     "elapsed": 1049,
     "status": "ok",
     "timestamp": 1606063902493,
     "user": {
      "displayName": "N26091194鄧立昌",
      "photoUrl": "",
      "userId": "09046790946486703509"
     },
     "user_tz": -480
    },
    "id": "ENaymuETlFao",
    "outputId": "8e75a9c0-438c-491e-867a-243feebc8455"
   },
   "outputs": [
    {
     "data": {
      "text/html": [
       "<div>\n",
       "<style scoped>\n",
       "    .dataframe tbody tr th:only-of-type {\n",
       "        vertical-align: middle;\n",
       "    }\n",
       "\n",
       "    .dataframe tbody tr th {\n",
       "        vertical-align: top;\n",
       "    }\n",
       "\n",
       "    .dataframe thead th {\n",
       "        text-align: right;\n",
       "    }\n",
       "</style>\n",
       "<table border=\"1\" class=\"dataframe\">\n",
       "  <thead>\n",
       "    <tr style=\"text-align: right;\">\n",
       "      <th></th>\n",
       "      <th>data</th>\n",
       "      <th>label</th>\n",
       "    </tr>\n",
       "  </thead>\n",
       "  <tbody>\n",
       "    <tr>\n",
       "      <th>125</th>\n",
       "      <td>[[0.0, 1.0, 0.0, 0.0], [1.0, 0.0, 0.0, 0.0], [...</td>\n",
       "      <td>0</td>\n",
       "    </tr>\n",
       "    <tr>\n",
       "      <th>771</th>\n",
       "      <td>[[0.0, 0.0, 0.0, 1.0], [0.0, 0.0, 1.0, 0.0], [...</td>\n",
       "      <td>1</td>\n",
       "    </tr>\n",
       "    <tr>\n",
       "      <th>881</th>\n",
       "      <td>[[0.0, 1.0, 0.0, 0.0], [0.0, 1.0, 0.0, 0.0], [...</td>\n",
       "      <td>0</td>\n",
       "    </tr>\n",
       "    <tr>\n",
       "      <th>963</th>\n",
       "      <td>[[0.0, 0.0, 0.0, 1.0], [0.0, 1.0, 0.0, 0.0], [...</td>\n",
       "      <td>0</td>\n",
       "    </tr>\n",
       "    <tr>\n",
       "      <th>1043</th>\n",
       "      <td>[[0.0, 1.0, 0.0, 0.0], [0.0, 0.0, 0.0, 1.0], [...</td>\n",
       "      <td>0</td>\n",
       "    </tr>\n",
       "    <tr>\n",
       "      <th>...</th>\n",
       "      <td>...</td>\n",
       "      <td>...</td>\n",
       "    </tr>\n",
       "    <tr>\n",
       "      <th>68</th>\n",
       "      <td>[[0.0, 0.0, 0.0, 1.0], [0.0, 1.0, 0.0, 0.0], [...</td>\n",
       "      <td>1</td>\n",
       "    </tr>\n",
       "    <tr>\n",
       "      <th>1342</th>\n",
       "      <td>[[0.0, 0.0, 0.0, 1.0], [0.0, 0.0, 0.0, 1.0], [...</td>\n",
       "      <td>0</td>\n",
       "    </tr>\n",
       "    <tr>\n",
       "      <th>301</th>\n",
       "      <td>[[0.0, 0.0, 1.0, 0.0], [0.0, 0.0, 0.0, 1.0], [...</td>\n",
       "      <td>0</td>\n",
       "    </tr>\n",
       "    <tr>\n",
       "      <th>63</th>\n",
       "      <td>[[0.0, 0.0, 0.0, 1.0], [0.0, 0.0, 1.0, 0.0], [...</td>\n",
       "      <td>1</td>\n",
       "    </tr>\n",
       "    <tr>\n",
       "      <th>41</th>\n",
       "      <td>[[0.0, 0.0, 1.0, 0.0], [0.0, 0.0, 1.0, 0.0], [...</td>\n",
       "      <td>0</td>\n",
       "    </tr>\n",
       "  </tbody>\n",
       "</table>\n",
       "<p>2041 rows × 2 columns</p>\n",
       "</div>"
      ],
      "text/plain": [
       "                                                   data  label\n",
       "125   [[0.0, 1.0, 0.0, 0.0], [1.0, 0.0, 0.0, 0.0], [...      0\n",
       "771   [[0.0, 0.0, 0.0, 1.0], [0.0, 0.0, 1.0, 0.0], [...      1\n",
       "881   [[0.0, 1.0, 0.0, 0.0], [0.0, 1.0, 0.0, 0.0], [...      0\n",
       "963   [[0.0, 0.0, 0.0, 1.0], [0.0, 1.0, 0.0, 0.0], [...      0\n",
       "1043  [[0.0, 1.0, 0.0, 0.0], [0.0, 0.0, 0.0, 1.0], [...      0\n",
       "...                                                 ...    ...\n",
       "68    [[0.0, 0.0, 0.0, 1.0], [0.0, 1.0, 0.0, 0.0], [...      1\n",
       "1342  [[0.0, 0.0, 0.0, 1.0], [0.0, 0.0, 0.0, 1.0], [...      0\n",
       "301   [[0.0, 0.0, 1.0, 0.0], [0.0, 0.0, 0.0, 1.0], [...      0\n",
       "63    [[0.0, 0.0, 0.0, 1.0], [0.0, 0.0, 1.0, 0.0], [...      1\n",
       "41    [[0.0, 0.0, 1.0, 0.0], [0.0, 0.0, 1.0, 0.0], [...      0\n",
       "\n",
       "[2041 rows x 2 columns]"
      ]
     },
     "execution_count": 20,
     "metadata": {},
     "output_type": "execute_result"
    }
   ],
   "source": [
    "train0_l1 = train_cv_l1['train0']\n",
    "train0_l1.to_pickle(\"./Datasets/train0_l1.pkl\")\n",
    "train0_l1"
   ]
  },
  {
   "cell_type": "code",
   "execution_count": 21,
   "metadata": {
    "id": "a61nssO0oWWd"
   },
   "outputs": [],
   "source": [
    "train1_l1 = train_cv_l1['train1']\n",
    "train1_l1.to_pickle(\"./Datasets/train1_l1.pkl\")\n",
    "\n",
    "train2_l1 = train_cv_l1['train2']\n",
    "train2_l1.to_pickle(\"./Datasets/train2_l1.pkl\")\n",
    "\n",
    "train3_l1 = train_cv_l1['train3']\n",
    "train3_l1.to_pickle(\"./Datasets/train3_l1.pkl\")\n",
    "\n",
    "train4_l1 = train_cv_l1['train4']\n",
    "train4_l1.to_pickle(\"./Datasets/train4_l1.pkl\")"
   ]
  },
  {
   "cell_type": "code",
   "execution_count": 22,
   "metadata": {
    "colab": {
     "base_uri": "https://localhost:8080/",
     "height": 419
    },
    "executionInfo": {
     "elapsed": 675,
     "status": "ok",
     "timestamp": 1606064015742,
     "user": {
      "displayName": "N26091194鄧立昌",
      "photoUrl": "",
      "userId": "09046790946486703509"
     },
     "user_tz": -480
    },
    "id": "WxwJri4PnQS6",
    "outputId": "dc420138-f966-4440-d81e-6c1b46e7201a"
   },
   "outputs": [
    {
     "data": {
      "text/html": [
       "<div>\n",
       "<style scoped>\n",
       "    .dataframe tbody tr th:only-of-type {\n",
       "        vertical-align: middle;\n",
       "    }\n",
       "\n",
       "    .dataframe tbody tr th {\n",
       "        vertical-align: top;\n",
       "    }\n",
       "\n",
       "    .dataframe thead th {\n",
       "        text-align: right;\n",
       "    }\n",
       "</style>\n",
       "<table border=\"1\" class=\"dataframe\">\n",
       "  <thead>\n",
       "    <tr style=\"text-align: right;\">\n",
       "      <th></th>\n",
       "      <th>data</th>\n",
       "      <th>label</th>\n",
       "    </tr>\n",
       "  </thead>\n",
       "  <tbody>\n",
       "    <tr>\n",
       "      <th>389</th>\n",
       "      <td>[[0.0, 0.0, 0.0, 1.0], [0.0, 0.0, 0.0, 1.0], [...</td>\n",
       "      <td>1</td>\n",
       "    </tr>\n",
       "    <tr>\n",
       "      <th>1266</th>\n",
       "      <td>[[0.0, 1.0, 0.0, 0.0], [1.0, 0.0, 0.0, 0.0], [...</td>\n",
       "      <td>0</td>\n",
       "    </tr>\n",
       "    <tr>\n",
       "      <th>147</th>\n",
       "      <td>[[0.0, 1.0, 0.0, 0.0], [0.0, 1.0, 0.0, 0.0], [...</td>\n",
       "      <td>0</td>\n",
       "    </tr>\n",
       "    <tr>\n",
       "      <th>149</th>\n",
       "      <td>[[0.0, 1.0, 0.0, 0.0], [0.0, 0.0, 1.0, 0.0], [...</td>\n",
       "      <td>0</td>\n",
       "    </tr>\n",
       "    <tr>\n",
       "      <th>941</th>\n",
       "      <td>[[0.0, 0.0, 0.0, 1.0], [0.0, 0.0, 1.0, 0.0], [...</td>\n",
       "      <td>1</td>\n",
       "    </tr>\n",
       "    <tr>\n",
       "      <th>...</th>\n",
       "      <td>...</td>\n",
       "      <td>...</td>\n",
       "    </tr>\n",
       "    <tr>\n",
       "      <th>1391</th>\n",
       "      <td>[[0.0, 0.0, 0.0, 1.0], [1.0, 0.0, 0.0, 0.0], [...</td>\n",
       "      <td>0</td>\n",
       "    </tr>\n",
       "    <tr>\n",
       "      <th>1021</th>\n",
       "      <td>[[0.0, 0.0, 0.0, 1.0], [1.0, 0.0, 0.0, 0.0], [...</td>\n",
       "      <td>1</td>\n",
       "    </tr>\n",
       "    <tr>\n",
       "      <th>1142</th>\n",
       "      <td>[[0.0, 0.0, 0.0, 1.0], [0.0, 0.0, 0.0, 1.0], [...</td>\n",
       "      <td>0</td>\n",
       "    </tr>\n",
       "    <tr>\n",
       "      <th>771</th>\n",
       "      <td>[[0.0, 0.0, 1.0, 0.0], [1.0, 0.0, 0.0, 0.0], [...</td>\n",
       "      <td>0</td>\n",
       "    </tr>\n",
       "    <tr>\n",
       "      <th>281</th>\n",
       "      <td>[[0.0, 0.0, 0.0, 1.0], [0.0, 1.0, 0.0, 0.0], [...</td>\n",
       "      <td>1</td>\n",
       "    </tr>\n",
       "  </tbody>\n",
       "</table>\n",
       "<p>511 rows × 2 columns</p>\n",
       "</div>"
      ],
      "text/plain": [
       "                                                   data  label\n",
       "389   [[0.0, 0.0, 0.0, 1.0], [0.0, 0.0, 0.0, 1.0], [...      1\n",
       "1266  [[0.0, 1.0, 0.0, 0.0], [1.0, 0.0, 0.0, 0.0], [...      0\n",
       "147   [[0.0, 1.0, 0.0, 0.0], [0.0, 1.0, 0.0, 0.0], [...      0\n",
       "149   [[0.0, 1.0, 0.0, 0.0], [0.0, 0.0, 1.0, 0.0], [...      0\n",
       "941   [[0.0, 0.0, 0.0, 1.0], [0.0, 0.0, 1.0, 0.0], [...      1\n",
       "...                                                 ...    ...\n",
       "1391  [[0.0, 0.0, 0.0, 1.0], [1.0, 0.0, 0.0, 0.0], [...      0\n",
       "1021  [[0.0, 0.0, 0.0, 1.0], [1.0, 0.0, 0.0, 0.0], [...      1\n",
       "1142  [[0.0, 0.0, 0.0, 1.0], [0.0, 0.0, 0.0, 1.0], [...      0\n",
       "771   [[0.0, 0.0, 1.0, 0.0], [1.0, 0.0, 0.0, 0.0], [...      0\n",
       "281   [[0.0, 0.0, 0.0, 1.0], [0.0, 1.0, 0.0, 0.0], [...      1\n",
       "\n",
       "[511 rows x 2 columns]"
      ]
     },
     "execution_count": 22,
     "metadata": {},
     "output_type": "execute_result"
    }
   ],
   "source": [
    "cv0_l1 = train_cv_l1['cv0']\n",
    "cv0_l1.to_pickle(\"./Datasets/cv0_l1.pkl\")\n",
    "cv0_l1"
   ]
  },
  {
   "cell_type": "code",
   "execution_count": 23,
   "metadata": {
    "id": "uZ2rzdWTok1W"
   },
   "outputs": [],
   "source": [
    "cv1_l1 = train_cv_l1['cv1']\n",
    "cv1_l1.to_pickle(\"./Datasets/cv1_l1.pkl\")\n",
    "\n",
    "cv2_l1 = train_cv_l1['cv2']\n",
    "cv2_l1.to_pickle(\"./Datasets/cv2_l1.pkl\")\n",
    "\n",
    "cv3_l1 = train_cv_l1['cv3']\n",
    "cv3_l1.to_pickle(\"./Datasets/cv3_l1.pkl\")\n",
    "\n",
    "cv4_l1 = train_cv_l1['cv4']\n",
    "cv4_l1.to_pickle(\"./Datasets/cv4_l1.pkl\")"
   ]
  },
  {
   "cell_type": "markdown",
   "metadata": {
    "id": "O_XRhVtZ4W0K"
   },
   "source": [
    "## data_l2"
   ]
  },
  {
   "cell_type": "code",
   "execution_count": 24,
   "metadata": {
    "colab": {
     "base_uri": "https://localhost:8080/",
     "height": 419
    },
    "executionInfo": {
     "elapsed": 1203,
     "status": "ok",
     "timestamp": 1606064128060,
     "user": {
      "displayName": "N26091194鄧立昌",
      "photoUrl": "",
      "userId": "09046790946486703509"
     },
     "user_tz": -480
    },
    "id": "62GUK_pv4W0K",
    "outputId": "2e7d71e9-f613-4295-d716-df71935d182b"
   },
   "outputs": [
    {
     "data": {
      "text/html": [
       "<div>\n",
       "<style scoped>\n",
       "    .dataframe tbody tr th:only-of-type {\n",
       "        vertical-align: middle;\n",
       "    }\n",
       "\n",
       "    .dataframe tbody tr th {\n",
       "        vertical-align: top;\n",
       "    }\n",
       "\n",
       "    .dataframe thead th {\n",
       "        text-align: right;\n",
       "    }\n",
       "</style>\n",
       "<table border=\"1\" class=\"dataframe\">\n",
       "  <thead>\n",
       "    <tr style=\"text-align: right;\">\n",
       "      <th></th>\n",
       "      <th>data</th>\n",
       "      <th>label</th>\n",
       "    </tr>\n",
       "  </thead>\n",
       "  <tbody>\n",
       "    <tr>\n",
       "      <th>0</th>\n",
       "      <td>[[0.0, 0.0, 0.0, 1.0], [0.0, 0.0, 1.0, 0.0], [...</td>\n",
       "      <td>1</td>\n",
       "    </tr>\n",
       "    <tr>\n",
       "      <th>1</th>\n",
       "      <td>[[0.0, 0.0, 0.0, 1.0], [0.0, 0.0, 1.0, 0.0], [...</td>\n",
       "      <td>1</td>\n",
       "    </tr>\n",
       "    <tr>\n",
       "      <th>2</th>\n",
       "      <td>[[0.0, 0.0, 0.0, 1.0], [1.0, 0.0, 0.0, 0.0], [...</td>\n",
       "      <td>1</td>\n",
       "    </tr>\n",
       "    <tr>\n",
       "      <th>3</th>\n",
       "      <td>[[0.0, 0.0, 0.0, 1.0], [0.0, 1.0, 0.0, 0.0], [...</td>\n",
       "      <td>1</td>\n",
       "    </tr>\n",
       "    <tr>\n",
       "      <th>4</th>\n",
       "      <td>[[0.0, 0.0, 0.0, 1.0], [0.0, 0.0, 1.0, 0.0], [...</td>\n",
       "      <td>1</td>\n",
       "    </tr>\n",
       "    <tr>\n",
       "      <th>...</th>\n",
       "      <td>...</td>\n",
       "      <td>...</td>\n",
       "    </tr>\n",
       "    <tr>\n",
       "      <th>704</th>\n",
       "      <td>[[0.0, 0.0, 0.0, 1.0], [0.0, 1.0, 0.0, 0.0], [...</td>\n",
       "      <td>0</td>\n",
       "    </tr>\n",
       "    <tr>\n",
       "      <th>705</th>\n",
       "      <td>[[0.0, 0.0, 0.0, 1.0], [0.0, 1.0, 0.0, 0.0], [...</td>\n",
       "      <td>0</td>\n",
       "    </tr>\n",
       "    <tr>\n",
       "      <th>706</th>\n",
       "      <td>[[0.0, 0.0, 0.0, 1.0], [0.0, 0.0, 1.0, 0.0], [...</td>\n",
       "      <td>0</td>\n",
       "    </tr>\n",
       "    <tr>\n",
       "      <th>707</th>\n",
       "      <td>[[0.0, 0.0, 0.0, 1.0], [1.0, 0.0, 0.0, 0.0], [...</td>\n",
       "      <td>0</td>\n",
       "    </tr>\n",
       "    <tr>\n",
       "      <th>708</th>\n",
       "      <td>[[0.0, 0.0, 0.0, 1.0], [0.0, 0.0, 0.0, 1.0], [...</td>\n",
       "      <td>0</td>\n",
       "    </tr>\n",
       "  </tbody>\n",
       "</table>\n",
       "<p>1418 rows × 2 columns</p>\n",
       "</div>"
      ],
      "text/plain": [
       "                                                  data  label\n",
       "0    [[0.0, 0.0, 0.0, 1.0], [0.0, 0.0, 1.0, 0.0], [...      1\n",
       "1    [[0.0, 0.0, 0.0, 1.0], [0.0, 0.0, 1.0, 0.0], [...      1\n",
       "2    [[0.0, 0.0, 0.0, 1.0], [1.0, 0.0, 0.0, 0.0], [...      1\n",
       "3    [[0.0, 0.0, 0.0, 1.0], [0.0, 1.0, 0.0, 0.0], [...      1\n",
       "4    [[0.0, 0.0, 0.0, 1.0], [0.0, 0.0, 1.0, 0.0], [...      1\n",
       "..                                                 ...    ...\n",
       "704  [[0.0, 0.0, 0.0, 1.0], [0.0, 1.0, 0.0, 0.0], [...      0\n",
       "705  [[0.0, 0.0, 0.0, 1.0], [0.0, 1.0, 0.0, 0.0], [...      0\n",
       "706  [[0.0, 0.0, 0.0, 1.0], [0.0, 0.0, 1.0, 0.0], [...      0\n",
       "707  [[0.0, 0.0, 0.0, 1.0], [1.0, 0.0, 0.0, 0.0], [...      0\n",
       "708  [[0.0, 0.0, 0.0, 1.0], [0.0, 0.0, 0.0, 1.0], [...      0\n",
       "\n",
       "[1418 rows x 2 columns]"
      ]
     },
     "execution_count": 24,
     "metadata": {},
     "output_type": "execute_result"
    }
   ],
   "source": [
    "data_l2 = pd.concat([pos_l2, neg_l2])\n",
    "data_l2"
   ]
  },
  {
   "cell_type": "code",
   "execution_count": 25,
   "metadata": {
    "colab": {
     "base_uri": "https://localhost:8080/"
    },
    "executionInfo": {
     "elapsed": 891,
     "status": "ok",
     "timestamp": 1606064135061,
     "user": {
      "displayName": "N26091194鄧立昌",
      "photoUrl": "",
      "userId": "09046790946486703509"
     },
     "user_tz": -480
    },
    "id": "6O3Wqsu84W0L",
    "outputId": "5c858a9a-8795-4839-b40e-0c6592a70f84"
   },
   "outputs": [
    {
     "data": {
      "text/plain": [
       "0      [[0.0, 0.0, 0.0, 1.0], [0.0, 0.0, 1.0, 0.0], [...\n",
       "1      [[0.0, 0.0, 0.0, 1.0], [0.0, 0.0, 1.0, 0.0], [...\n",
       "2      [[0.0, 0.0, 0.0, 1.0], [1.0, 0.0, 0.0, 0.0], [...\n",
       "3      [[0.0, 0.0, 0.0, 1.0], [0.0, 1.0, 0.0, 0.0], [...\n",
       "4      [[0.0, 0.0, 0.0, 1.0], [0.0, 0.0, 1.0, 0.0], [...\n",
       "                             ...                        \n",
       "704    [[0.0, 0.0, 0.0, 1.0], [0.0, 1.0, 0.0, 0.0], [...\n",
       "705    [[0.0, 0.0, 0.0, 1.0], [0.0, 1.0, 0.0, 0.0], [...\n",
       "706    [[0.0, 0.0, 0.0, 1.0], [0.0, 0.0, 1.0, 0.0], [...\n",
       "707    [[0.0, 0.0, 0.0, 1.0], [1.0, 0.0, 0.0, 0.0], [...\n",
       "708    [[0.0, 0.0, 0.0, 1.0], [0.0, 0.0, 0.0, 1.0], [...\n",
       "Name: data, Length: 1418, dtype: object"
      ]
     },
     "execution_count": 25,
     "metadata": {},
     "output_type": "execute_result"
    }
   ],
   "source": [
    "X = data_l2['data']\n",
    "X"
   ]
  },
  {
   "cell_type": "code",
   "execution_count": 26,
   "metadata": {
    "colab": {
     "base_uri": "https://localhost:8080/"
    },
    "executionInfo": {
     "elapsed": 778,
     "status": "ok",
     "timestamp": 1606064139468,
     "user": {
      "displayName": "N26091194鄧立昌",
      "photoUrl": "",
      "userId": "09046790946486703509"
     },
     "user_tz": -480
    },
    "id": "CYPkCAyR4W0L",
    "outputId": "99325a23-0099-4902-9e43-5e6cdaff005e"
   },
   "outputs": [
    {
     "data": {
      "text/plain": [
       "0      1\n",
       "1      1\n",
       "2      1\n",
       "3      1\n",
       "4      1\n",
       "      ..\n",
       "704    0\n",
       "705    0\n",
       "706    0\n",
       "707    0\n",
       "708    0\n",
       "Name: label, Length: 1418, dtype: int64"
      ]
     },
     "execution_count": 26,
     "metadata": {},
     "output_type": "execute_result"
    }
   ],
   "source": [
    "y = data_l2['label']\n",
    "y"
   ]
  },
  {
   "cell_type": "markdown",
   "metadata": {
    "id": "8DjestjU4W0L"
   },
   "source": [
    "### Data spliting to train / dev"
   ]
  },
  {
   "cell_type": "code",
   "execution_count": 27,
   "metadata": {
    "colab": {
     "base_uri": "https://localhost:8080/"
    },
    "executionInfo": {
     "elapsed": 655,
     "status": "ok",
     "timestamp": 1606064144833,
     "user": {
      "displayName": "N26091194鄧立昌",
      "photoUrl": "",
      "userId": "09046790946486703509"
     },
     "user_tz": -480
    },
    "id": "uxo2-yr14W0L",
    "outputId": "e012eb30-a63a-4117-b600-ce7e4e0b1cd3"
   },
   "outputs": [
    {
     "data": {
      "text/plain": [
       "1"
      ]
     },
     "execution_count": 27,
     "metadata": {},
     "output_type": "execute_result"
    }
   ],
   "source": [
    "from sklearn.model_selection import ShuffleSplit\n",
    "rs = ShuffleSplit(n_splits=1, test_size=0.1, random_state=0)\n",
    "rs.get_n_splits(X)"
   ]
  },
  {
   "cell_type": "code",
   "execution_count": 28,
   "metadata": {
    "colab": {
     "base_uri": "https://localhost:8080/"
    },
    "executionInfo": {
     "elapsed": 680,
     "status": "ok",
     "timestamp": 1606064146630,
     "user": {
      "displayName": "N26091194鄧立昌",
      "photoUrl": "",
      "userId": "09046790946486703509"
     },
     "user_tz": -480
    },
    "id": "yiWfnV314W0L",
    "outputId": "6c6efbe0-16b7-4ba8-ba46-2c93015149e7"
   },
   "outputs": [
    {
     "name": "stdout",
     "output_type": "stream",
     "text": [
      "Train data: 1276\n",
      "Test data: 142\n"
     ]
    }
   ],
   "source": [
    "for train_index, test_index in rs.split(X):\n",
    "  print(\"Train data:\", len(train_index)) \n",
    "  print(\"Test data:\", len(test_index))"
   ]
  },
  {
   "cell_type": "code",
   "execution_count": 29,
   "metadata": {
    "colab": {
     "base_uri": "https://localhost:8080/",
     "height": 419
    },
    "executionInfo": {
     "elapsed": 690,
     "status": "ok",
     "timestamp": 1606064171513,
     "user": {
      "displayName": "N26091194鄧立昌",
      "photoUrl": "",
      "userId": "09046790946486703509"
     },
     "user_tz": -480
    },
    "id": "v9seMBDQ4W0L",
    "outputId": "2f4d7dc6-d08f-4519-e386-f2b6c5f0cbc7"
   },
   "outputs": [
    {
     "data": {
      "text/html": [
       "<div>\n",
       "<style scoped>\n",
       "    .dataframe tbody tr th:only-of-type {\n",
       "        vertical-align: middle;\n",
       "    }\n",
       "\n",
       "    .dataframe tbody tr th {\n",
       "        vertical-align: top;\n",
       "    }\n",
       "\n",
       "    .dataframe thead th {\n",
       "        text-align: right;\n",
       "    }\n",
       "</style>\n",
       "<table border=\"1\" class=\"dataframe\">\n",
       "  <thead>\n",
       "    <tr style=\"text-align: right;\">\n",
       "      <th></th>\n",
       "      <th>data</th>\n",
       "      <th>label</th>\n",
       "    </tr>\n",
       "  </thead>\n",
       "  <tbody>\n",
       "    <tr>\n",
       "      <th>211</th>\n",
       "      <td>[[0.0, 0.0, 0.0, 1.0], [0.0, 1.0, 0.0, 0.0], [...</td>\n",
       "      <td>1</td>\n",
       "    </tr>\n",
       "    <tr>\n",
       "      <th>459</th>\n",
       "      <td>[[0.0, 0.0, 0.0, 1.0], [1.0, 0.0, 0.0, 0.0], [...</td>\n",
       "      <td>1</td>\n",
       "    </tr>\n",
       "    <tr>\n",
       "      <th>602</th>\n",
       "      <td>[[0.0, 0.0, 0.0, 1.0], [0.0, 0.0, 1.0, 0.0], [...</td>\n",
       "      <td>0</td>\n",
       "    </tr>\n",
       "    <tr>\n",
       "      <th>465</th>\n",
       "      <td>[[0.0, 0.0, 0.0, 1.0], [0.0, 0.0, 0.0, 1.0], [...</td>\n",
       "      <td>1</td>\n",
       "    </tr>\n",
       "    <tr>\n",
       "      <th>19</th>\n",
       "      <td>[[0.0, 0.0, 0.0, 1.0], [0.0, 1.0, 0.0, 0.0], [...</td>\n",
       "      <td>1</td>\n",
       "    </tr>\n",
       "    <tr>\n",
       "      <th>...</th>\n",
       "      <td>...</td>\n",
       "      <td>...</td>\n",
       "    </tr>\n",
       "    <tr>\n",
       "      <th>54</th>\n",
       "      <td>[[0.0, 0.0, 0.0, 1.0], [1.0, 0.0, 0.0, 0.0], [...</td>\n",
       "      <td>0</td>\n",
       "    </tr>\n",
       "    <tr>\n",
       "      <th>126</th>\n",
       "      <td>[[0.0, 0.0, 0.0, 1.0], [0.0, 0.0, 1.0, 0.0], [...</td>\n",
       "      <td>0</td>\n",
       "    </tr>\n",
       "    <tr>\n",
       "      <th>507</th>\n",
       "      <td>[[0.0, 0.0, 0.0, 1.0], [0.0, 0.0, 1.0, 0.0], [...</td>\n",
       "      <td>0</td>\n",
       "    </tr>\n",
       "    <tr>\n",
       "      <th>559</th>\n",
       "      <td>[[0.0, 0.0, 0.0, 1.0], [1.0, 0.0, 0.0, 0.0], [...</td>\n",
       "      <td>1</td>\n",
       "    </tr>\n",
       "    <tr>\n",
       "      <th>684</th>\n",
       "      <td>[[0.0, 0.0, 0.0, 1.0], [1.0, 0.0, 0.0, 0.0], [...</td>\n",
       "      <td>1</td>\n",
       "    </tr>\n",
       "  </tbody>\n",
       "</table>\n",
       "<p>1276 rows × 2 columns</p>\n",
       "</div>"
      ],
      "text/plain": [
       "                                                  data  label\n",
       "211  [[0.0, 0.0, 0.0, 1.0], [0.0, 1.0, 0.0, 0.0], [...      1\n",
       "459  [[0.0, 0.0, 0.0, 1.0], [1.0, 0.0, 0.0, 0.0], [...      1\n",
       "602  [[0.0, 0.0, 0.0, 1.0], [0.0, 0.0, 1.0, 0.0], [...      0\n",
       "465  [[0.0, 0.0, 0.0, 1.0], [0.0, 0.0, 0.0, 1.0], [...      1\n",
       "19   [[0.0, 0.0, 0.0, 1.0], [0.0, 1.0, 0.0, 0.0], [...      1\n",
       "..                                                 ...    ...\n",
       "54   [[0.0, 0.0, 0.0, 1.0], [1.0, 0.0, 0.0, 0.0], [...      0\n",
       "126  [[0.0, 0.0, 0.0, 1.0], [0.0, 0.0, 1.0, 0.0], [...      0\n",
       "507  [[0.0, 0.0, 0.0, 1.0], [0.0, 0.0, 1.0, 0.0], [...      0\n",
       "559  [[0.0, 0.0, 0.0, 1.0], [1.0, 0.0, 0.0, 0.0], [...      1\n",
       "684  [[0.0, 0.0, 0.0, 1.0], [1.0, 0.0, 0.0, 0.0], [...      1\n",
       "\n",
       "[1276 rows x 2 columns]"
      ]
     },
     "execution_count": 29,
     "metadata": {},
     "output_type": "execute_result"
    }
   ],
   "source": [
    "train_df_l2 = data_l2.iloc[train_index]\n",
    "train_df_l2"
   ]
  },
  {
   "cell_type": "code",
   "execution_count": 30,
   "metadata": {
    "colab": {
     "base_uri": "https://localhost:8080/"
    },
    "executionInfo": {
     "elapsed": 683,
     "status": "ok",
     "timestamp": 1606064184024,
     "user": {
      "displayName": "N26091194鄧立昌",
      "photoUrl": "",
      "userId": "09046790946486703509"
     },
     "user_tz": -480
    },
    "id": "EftFNV7T4W0M",
    "outputId": "9ae54bf1-b448-4c84-a844-aeca7f1b4eb3"
   },
   "outputs": [
    {
     "name": "stdout",
     "output_type": "stream",
     "text": [
      "label = 1(Pos) in train:  640\n",
      "label = 0(Neg) in train:  636\n"
     ]
    }
   ],
   "source": [
    "print('label = 1(Pos) in train: ', len(train_df_l2[train_df_l2['label']==1]))\n",
    "print('label = 0(Neg) in train: ', len(train_df_l2[train_df_l2['label']==0]))"
   ]
  },
  {
   "cell_type": "markdown",
   "metadata": {
    "id": "tyru5sI-4W0M"
   },
   "source": [
    "**Testing set**"
   ]
  },
  {
   "cell_type": "code",
   "execution_count": 31,
   "metadata": {
    "colab": {
     "base_uri": "https://localhost:8080/",
     "height": 419
    },
    "executionInfo": {
     "elapsed": 691,
     "status": "ok",
     "timestamp": 1606064200931,
     "user": {
      "displayName": "N26091194鄧立昌",
      "photoUrl": "",
      "userId": "09046790946486703509"
     },
     "user_tz": -480
    },
    "id": "A0dYb-1X4W0M",
    "outputId": "c47abd6a-575e-4ba0-a912-f4f98b724628"
   },
   "outputs": [
    {
     "data": {
      "text/html": [
       "<div>\n",
       "<style scoped>\n",
       "    .dataframe tbody tr th:only-of-type {\n",
       "        vertical-align: middle;\n",
       "    }\n",
       "\n",
       "    .dataframe tbody tr th {\n",
       "        vertical-align: top;\n",
       "    }\n",
       "\n",
       "    .dataframe thead th {\n",
       "        text-align: right;\n",
       "    }\n",
       "</style>\n",
       "<table border=\"1\" class=\"dataframe\">\n",
       "  <thead>\n",
       "    <tr style=\"text-align: right;\">\n",
       "      <th></th>\n",
       "      <th>data</th>\n",
       "      <th>label</th>\n",
       "    </tr>\n",
       "  </thead>\n",
       "  <tbody>\n",
       "    <tr>\n",
       "      <th>431</th>\n",
       "      <td>[[0.0, 0.0, 0.0, 1.0], [0.0, 1.0, 0.0, 0.0], [...</td>\n",
       "      <td>1</td>\n",
       "    </tr>\n",
       "    <tr>\n",
       "      <th>610</th>\n",
       "      <td>[[0.0, 0.0, 0.0, 1.0], [0.0, 0.0, 1.0, 0.0], [...</td>\n",
       "      <td>1</td>\n",
       "    </tr>\n",
       "    <tr>\n",
       "      <th>86</th>\n",
       "      <td>[[0.0, 0.0, 0.0, 1.0], [0.0, 0.0, 1.0, 0.0], [...</td>\n",
       "      <td>0</td>\n",
       "    </tr>\n",
       "    <tr>\n",
       "      <th>529</th>\n",
       "      <td>[[0.0, 0.0, 0.0, 1.0], [0.0, 0.0, 1.0, 0.0], [...</td>\n",
       "      <td>0</td>\n",
       "    </tr>\n",
       "    <tr>\n",
       "      <th>519</th>\n",
       "      <td>[[0.0, 0.0, 0.0, 1.0], [0.0, 0.0, 1.0, 0.0], [...</td>\n",
       "      <td>0</td>\n",
       "    </tr>\n",
       "    <tr>\n",
       "      <th>...</th>\n",
       "      <td>...</td>\n",
       "      <td>...</td>\n",
       "    </tr>\n",
       "    <tr>\n",
       "      <th>386</th>\n",
       "      <td>[[0.0, 0.0, 0.0, 1.0], [1.0, 0.0, 0.0, 0.0], [...</td>\n",
       "      <td>0</td>\n",
       "    </tr>\n",
       "    <tr>\n",
       "      <th>184</th>\n",
       "      <td>[[0.0, 0.0, 0.0, 1.0], [0.0, 1.0, 0.0, 0.0], [...</td>\n",
       "      <td>1</td>\n",
       "    </tr>\n",
       "    <tr>\n",
       "      <th>640</th>\n",
       "      <td>[[0.0, 0.0, 1.0, 0.0], [0.0, 1.0, 0.0, 0.0], [...</td>\n",
       "      <td>0</td>\n",
       "    </tr>\n",
       "    <tr>\n",
       "      <th>319</th>\n",
       "      <td>[[1.0, 0.0, 0.0, 0.0], [0.0, 0.0, 0.0, 1.0], [...</td>\n",
       "      <td>1</td>\n",
       "    </tr>\n",
       "    <tr>\n",
       "      <th>172</th>\n",
       "      <td>[[0.0, 0.0, 0.0, 1.0], [0.0, 1.0, 0.0, 0.0], [...</td>\n",
       "      <td>0</td>\n",
       "    </tr>\n",
       "  </tbody>\n",
       "</table>\n",
       "<p>142 rows × 2 columns</p>\n",
       "</div>"
      ],
      "text/plain": [
       "                                                  data  label\n",
       "431  [[0.0, 0.0, 0.0, 1.0], [0.0, 1.0, 0.0, 0.0], [...      1\n",
       "610  [[0.0, 0.0, 0.0, 1.0], [0.0, 0.0, 1.0, 0.0], [...      1\n",
       "86   [[0.0, 0.0, 0.0, 1.0], [0.0, 0.0, 1.0, 0.0], [...      0\n",
       "529  [[0.0, 0.0, 0.0, 1.0], [0.0, 0.0, 1.0, 0.0], [...      0\n",
       "519  [[0.0, 0.0, 0.0, 1.0], [0.0, 0.0, 1.0, 0.0], [...      0\n",
       "..                                                 ...    ...\n",
       "386  [[0.0, 0.0, 0.0, 1.0], [1.0, 0.0, 0.0, 0.0], [...      0\n",
       "184  [[0.0, 0.0, 0.0, 1.0], [0.0, 1.0, 0.0, 0.0], [...      1\n",
       "640  [[0.0, 0.0, 1.0, 0.0], [0.0, 1.0, 0.0, 0.0], [...      0\n",
       "319  [[1.0, 0.0, 0.0, 0.0], [0.0, 0.0, 0.0, 1.0], [...      1\n",
       "172  [[0.0, 0.0, 0.0, 1.0], [0.0, 1.0, 0.0, 0.0], [...      0\n",
       "\n",
       "[142 rows x 2 columns]"
      ]
     },
     "execution_count": 31,
     "metadata": {},
     "output_type": "execute_result"
    }
   ],
   "source": [
    "test_df_l2 = data_l2.iloc[test_index]\n",
    "test_df_l2.to_pickle(\"./Datasets/test_df_l2.pkl\")\n",
    "test_df_l2"
   ]
  },
  {
   "cell_type": "code",
   "execution_count": 32,
   "metadata": {
    "colab": {
     "base_uri": "https://localhost:8080/"
    },
    "executionInfo": {
     "elapsed": 831,
     "status": "ok",
     "timestamp": 1606064227244,
     "user": {
      "displayName": "N26091194鄧立昌",
      "photoUrl": "",
      "userId": "09046790946486703509"
     },
     "user_tz": -480
    },
    "id": "Vb-1OT0Y4W0M",
    "outputId": "7e39edc7-7370-41b6-b049-8ef191166b19"
   },
   "outputs": [
    {
     "name": "stdout",
     "output_type": "stream",
     "text": [
      "label = 1(POS) in test:  69\n",
      "label = 0(NEG) in test:  73\n"
     ]
    }
   ],
   "source": [
    "print('label = 1(POS) in test: ', len(test_df_l2[test_df_l2['label']==1]))\n",
    "print('label = 0(NEG) in test: ', len(test_df_l2[test_df_l2['label']==0]))"
   ]
  },
  {
   "cell_type": "markdown",
   "metadata": {
    "id": "iSbS-9LX4W0M"
   },
   "source": [
    "### K-fold"
   ]
  },
  {
   "cell_type": "code",
   "execution_count": 33,
   "metadata": {
    "id": "m-00Qypo4W0M"
   },
   "outputs": [],
   "source": [
    "from sklearn.model_selection import StratifiedShuffleSplit\n",
    "sss = StratifiedShuffleSplit(n_splits=5, test_size=0.2, random_state=0)"
   ]
  },
  {
   "cell_type": "code",
   "execution_count": 34,
   "metadata": {
    "colab": {
     "base_uri": "https://localhost:8080/"
    },
    "executionInfo": {
     "elapsed": 707,
     "status": "ok",
     "timestamp": 1606064857020,
     "user": {
      "displayName": "N26091194鄧立昌",
      "photoUrl": "",
      "userId": "09046790946486703509"
     },
     "user_tz": -480
    },
    "id": "SGldTbw74W0M",
    "outputId": "e88a21c8-9b73-4f35-8509-7e08e1d91386"
   },
   "outputs": [
    {
     "data": {
      "text/plain": [
       "211    [[0.0, 0.0, 0.0, 1.0], [0.0, 1.0, 0.0, 0.0], [...\n",
       "459    [[0.0, 0.0, 0.0, 1.0], [1.0, 0.0, 0.0, 0.0], [...\n",
       "602    [[0.0, 0.0, 0.0, 1.0], [0.0, 0.0, 1.0, 0.0], [...\n",
       "465    [[0.0, 0.0, 0.0, 1.0], [0.0, 0.0, 0.0, 1.0], [...\n",
       "19     [[0.0, 0.0, 0.0, 1.0], [0.0, 1.0, 0.0, 0.0], [...\n",
       "                             ...                        \n",
       "54     [[0.0, 0.0, 0.0, 1.0], [1.0, 0.0, 0.0, 0.0], [...\n",
       "126    [[0.0, 0.0, 0.0, 1.0], [0.0, 0.0, 1.0, 0.0], [...\n",
       "507    [[0.0, 0.0, 0.0, 1.0], [0.0, 0.0, 1.0, 0.0], [...\n",
       "559    [[0.0, 0.0, 0.0, 1.0], [1.0, 0.0, 0.0, 0.0], [...\n",
       "684    [[0.0, 0.0, 0.0, 1.0], [1.0, 0.0, 0.0, 0.0], [...\n",
       "Name: data, Length: 1276, dtype: object"
      ]
     },
     "execution_count": 34,
     "metadata": {},
     "output_type": "execute_result"
    }
   ],
   "source": [
    "X = train_df_l2['data']\n",
    "X"
   ]
  },
  {
   "cell_type": "code",
   "execution_count": 35,
   "metadata": {
    "colab": {
     "base_uri": "https://localhost:8080/"
    },
    "executionInfo": {
     "elapsed": 910,
     "status": "ok",
     "timestamp": 1606064861824,
     "user": {
      "displayName": "N26091194鄧立昌",
      "photoUrl": "",
      "userId": "09046790946486703509"
     },
     "user_tz": -480
    },
    "id": "X6vsESzT4W0M",
    "outputId": "4204b5cc-0c3e-43c6-ea62-6ebbcc68a503"
   },
   "outputs": [
    {
     "data": {
      "text/plain": [
       "211    1\n",
       "459    1\n",
       "602    0\n",
       "465    1\n",
       "19     1\n",
       "      ..\n",
       "54     0\n",
       "126    0\n",
       "507    0\n",
       "559    1\n",
       "684    1\n",
       "Name: label, Length: 1276, dtype: int64"
      ]
     },
     "execution_count": 35,
     "metadata": {},
     "output_type": "execute_result"
    }
   ],
   "source": [
    "y = train_df_l2['label']\n",
    "y"
   ]
  },
  {
   "cell_type": "code",
   "execution_count": 36,
   "metadata": {
    "colab": {
     "base_uri": "https://localhost:8080/"
    },
    "executionInfo": {
     "elapsed": 758,
     "status": "ok",
     "timestamp": 1606064864178,
     "user": {
      "displayName": "N26091194鄧立昌",
      "photoUrl": "",
      "userId": "09046790946486703509"
     },
     "user_tz": -480
    },
    "id": "IB7Zcg-d4W0M",
    "outputId": "0335538e-49c9-4971-f81a-6818870c0177"
   },
   "outputs": [
    {
     "data": {
      "text/plain": [
       "5"
      ]
     },
     "execution_count": 36,
     "metadata": {},
     "output_type": "execute_result"
    }
   ],
   "source": [
    "sss.get_n_splits(X, y)"
   ]
  },
  {
   "cell_type": "code",
   "execution_count": 37,
   "metadata": {
    "colab": {
     "base_uri": "https://localhost:8080/"
    },
    "executionInfo": {
     "elapsed": 1372,
     "status": "ok",
     "timestamp": 1606064875476,
     "user": {
      "displayName": "N26091194鄧立昌",
      "photoUrl": "",
      "userId": "09046790946486703509"
     },
     "user_tz": -480
    },
    "id": "x2jqDy9E4W0M",
    "outputId": "ddc58dad-5d30-4a95-f15c-a53abdbc83d0"
   },
   "outputs": [
    {
     "name": "stdout",
     "output_type": "stream",
     "text": [
      "train:\n",
      "                                                  data  label\n",
      "406  [[0.0, 0.0, 0.0, 1.0], [0.0, 0.0, 0.0, 1.0], [...      1\n",
      "482  [[0.0, 0.0, 0.0, 1.0], [0.0, 1.0, 0.0, 0.0], [...      0\n",
      "287  [[0.0, 0.0, 0.0, 1.0], [0.0, 1.0, 0.0, 0.0], [...      1\n",
      "55   [[0.0, 0.0, 0.0, 1.0], [0.0, 1.0, 0.0, 0.0], [...      0\n",
      "320  [[0.0, 0.0, 0.0, 1.0], [0.0, 1.0, 0.0, 0.0], [...      0\n",
      "..                                                 ...    ...\n",
      "172  [[0.0, 0.0, 0.0, 1.0], [0.0, 0.0, 1.0, 0.0], [...      1\n",
      "545  [[0.0, 0.0, 0.0, 1.0], [0.0, 0.0, 1.0, 0.0], [...      1\n",
      "1    [[0.0, 0.0, 0.0, 1.0], [0.0, 0.0, 0.0, 1.0], [...      0\n",
      "412  [[0.0, 0.0, 0.0, 1.0], [1.0, 0.0, 0.0, 0.0], [...      1\n",
      "372  [[0.0, 0.0, 0.0, 1.0], [1.0, 0.0, 0.0, 0.0], [...      0\n",
      "\n",
      "[1020 rows x 2 columns]\n",
      "valid:\n",
      "                                                  data  label\n",
      "144  [[0.0, 0.0, 0.0, 1.0], [1.0, 0.0, 0.0, 0.0], [...      1\n",
      "692  [[1.0, 0.0, 0.0, 0.0], [0.0, 0.0, 1.0, 0.0], [...      0\n",
      "190  [[0.0, 0.0, 0.0, 1.0], [0.0, 0.0, 1.0, 0.0], [...      1\n",
      "468  [[0.0, 0.0, 0.0, 1.0], [1.0, 0.0, 0.0, 0.0], [...      1\n",
      "610  [[0.0, 0.0, 0.0, 1.0], [0.0, 1.0, 0.0, 0.0], [...      0\n",
      "..                                                 ...    ...\n",
      "426  [[0.0, 0.0, 0.0, 1.0], [0.0, 0.0, 1.0, 0.0], [...      1\n",
      "616  [[0.0, 0.0, 0.0, 1.0], [0.0, 0.0, 1.0, 0.0], [...      0\n",
      "139  [[0.0, 0.0, 0.0, 1.0], [1.0, 0.0, 0.0, 0.0], [...      1\n",
      "16   [[0.0, 0.0, 0.0, 1.0], [0.0, 0.0, 1.0, 0.0], [...      1\n",
      "193  [[0.0, 0.0, 0.0, 1.0], [0.0, 1.0, 0.0, 0.0], [...      1\n",
      "\n",
      "[256 rows x 2 columns]\n",
      "label = 1(POS) in train:  512\n",
      "label = 0(NEG) in train:  508\n",
      "label = 1(POS) in valid:  128\n",
      "label = 0(NEG) in valid:  128\n",
      "--------------------------------------------------------------------------------\n",
      "train:\n",
      "                                                  data  label\n",
      "322  [[0.0, 0.0, 0.0, 1.0], [1.0, 0.0, 0.0, 0.0], [...      1\n",
      "631  [[0.0, 0.0, 0.0, 1.0], [1.0, 0.0, 0.0, 0.0], [...      1\n",
      "57   [[0.0, 0.0, 0.0, 1.0], [1.0, 0.0, 0.0, 0.0], [...      1\n",
      "79   [[0.0, 0.0, 0.0, 1.0], [0.0, 1.0, 0.0, 0.0], [...      0\n",
      "189  [[0.0, 0.0, 0.0, 1.0], [0.0, 0.0, 1.0, 0.0], [...      0\n",
      "..                                                 ...    ...\n",
      "385  [[0.0, 0.0, 0.0, 1.0], [1.0, 0.0, 0.0, 0.0], [...      1\n",
      "684  [[0.0, 0.0, 0.0, 1.0], [1.0, 0.0, 0.0, 0.0], [...      0\n",
      "449  [[0.0, 0.0, 0.0, 1.0], [0.0, 1.0, 0.0, 0.0], [...      1\n",
      "428  [[0.0, 0.0, 0.0, 1.0], [0.0, 0.0, 1.0, 0.0], [...      0\n",
      "196  [[0.0, 0.0, 0.0, 1.0], [0.0, 0.0, 1.0, 0.0], [...      0\n",
      "\n",
      "[1020 rows x 2 columns]\n",
      "valid:\n",
      "                                                  data  label\n",
      "69   [[0.0, 0.0, 0.0, 1.0], [0.0, 0.0, 0.0, 1.0], [...      1\n",
      "15   [[0.0, 0.0, 0.0, 1.0], [0.0, 0.0, 1.0, 0.0], [...      0\n",
      "476  [[0.0, 0.0, 0.0, 1.0], [0.0, 0.0, 1.0, 0.0], [...      1\n",
      "262  [[0.0, 0.0, 0.0, 1.0], [0.0, 0.0, 1.0, 0.0], [...      0\n",
      "555  [[0.0, 0.0, 0.0, 1.0], [0.0, 0.0, 0.0, 1.0], [...      1\n",
      "..                                                 ...    ...\n",
      "545  [[0.0, 0.0, 0.0, 1.0], [0.0, 0.0, 1.0, 0.0], [...      1\n",
      "40   [[0.0, 0.0, 0.0, 1.0], [0.0, 0.0, 1.0, 0.0], [...      0\n",
      "302  [[0.0, 0.0, 0.0, 1.0], [0.0, 0.0, 1.0, 0.0], [...      0\n",
      "512  [[0.0, 0.0, 0.0, 1.0], [1.0, 0.0, 0.0, 0.0], [...      0\n",
      "512  [[0.0, 0.0, 0.0, 1.0], [0.0, 0.0, 0.0, 1.0], [...      1\n",
      "\n",
      "[256 rows x 2 columns]\n",
      "label = 1(POS) in train:  512\n",
      "label = 0(NEG) in train:  508\n",
      "label = 1(POS) in valid:  128\n",
      "label = 0(NEG) in valid:  128\n",
      "--------------------------------------------------------------------------------\n",
      "train:\n",
      "                                                  data  label\n",
      "680  [[0.0, 0.0, 0.0, 1.0], [1.0, 0.0, 0.0, 0.0], [...      0\n",
      "359  [[0.0, 0.0, 0.0, 1.0], [0.0, 0.0, 1.0, 0.0], [...      1\n",
      "671  [[0.0, 0.0, 0.0, 1.0], [1.0, 0.0, 0.0, 0.0], [...      1\n",
      "149  [[0.0, 0.0, 0.0, 1.0], [1.0, 0.0, 0.0, 0.0], [...      0\n",
      "34   [[0.0, 0.0, 0.0, 1.0], [0.0, 1.0, 0.0, 0.0], [...      0\n",
      "..                                                 ...    ...\n",
      "172  [[0.0, 0.0, 0.0, 1.0], [0.0, 0.0, 1.0, 0.0], [...      1\n",
      "320  [[0.0, 0.0, 0.0, 1.0], [0.0, 1.0, 0.0, 0.0], [...      0\n",
      "179  [[0.0, 0.0, 0.0, 1.0], [0.0, 0.0, 1.0, 0.0], [...      1\n",
      "374  [[0.0, 0.0, 0.0, 1.0], [0.0, 0.0, 1.0, 0.0], [...      0\n",
      "306  [[0.0, 0.0, 0.0, 1.0], [1.0, 0.0, 0.0, 0.0], [...      0\n",
      "\n",
      "[1020 rows x 2 columns]\n",
      "valid:\n",
      "                                                  data  label\n",
      "517  [[0.0, 0.0, 0.0, 1.0], [0.0, 0.0, 1.0, 0.0], [...      0\n",
      "638  [[0.0, 0.0, 0.0, 1.0], [0.0, 0.0, 1.0, 0.0], [...      1\n",
      "618  [[0.0, 0.0, 0.0, 1.0], [0.0, 0.0, 1.0, 0.0], [...      0\n",
      "253  [[0.0, 0.0, 0.0, 1.0], [0.0, 0.0, 1.0, 0.0], [...      1\n",
      "607  [[0.0, 0.0, 0.0, 1.0], [1.0, 0.0, 0.0, 0.0], [...      0\n",
      "..                                                 ...    ...\n",
      "182  [[0.0, 0.0, 0.0, 1.0], [0.0, 0.0, 0.0, 1.0], [...      0\n",
      "306  [[0.0, 0.0, 0.0, 1.0], [0.0, 1.0, 0.0, 0.0], [...      1\n",
      "236  [[0.0, 0.0, 0.0, 1.0], [0.0, 0.0, 1.0, 0.0], [...      0\n",
      "488  [[0.0, 0.0, 0.0, 1.0], [0.0, 0.0, 1.0, 0.0], [...      0\n",
      "380  [[0.0, 0.0, 0.0, 1.0], [1.0, 0.0, 0.0, 0.0], [...      1\n",
      "\n",
      "[256 rows x 2 columns]\n",
      "label = 1(POS) in train:  512\n",
      "label = 0(NEG) in train:  508\n",
      "label = 1(POS) in valid:  128\n",
      "label = 0(NEG) in valid:  128\n",
      "--------------------------------------------------------------------------------\n",
      "train:\n",
      "                                                  data  label\n",
      "400  [[0.0, 0.0, 0.0, 1.0], [0.0, 0.0, 0.0, 1.0], [...      0\n",
      "613  [[0.0, 0.0, 0.0, 1.0], [0.0, 1.0, 0.0, 0.0], [...      0\n",
      "181  [[0.0, 0.0, 0.0, 1.0], [0.0, 0.0, 1.0, 0.0], [...      1\n",
      "240  [[0.0, 0.0, 0.0, 1.0], [0.0, 0.0, 0.0, 1.0], [...      0\n",
      "299  [[0.0, 0.0, 0.0, 1.0], [1.0, 0.0, 0.0, 0.0], [...      0\n",
      "..                                                 ...    ...\n",
      "577  [[0.0, 0.0, 0.0, 1.0], [0.0, 0.0, 0.0, 1.0], [...      1\n",
      "185  [[0.0, 0.0, 0.0, 1.0], [0.0, 1.0, 0.0, 0.0], [...      0\n",
      "634  [[0.0, 0.0, 0.0, 1.0], [1.0, 0.0, 0.0, 0.0], [...      1\n",
      "222  [[0.0, 0.0, 0.0, 1.0], [0.0, 1.0, 0.0, 0.0], [...      0\n",
      "403  [[0.0, 0.0, 1.0, 0.0], [0.0, 0.0, 1.0, 0.0], [...      0\n",
      "\n",
      "[1020 rows x 2 columns]\n",
      "valid:\n",
      "                                                  data  label\n",
      "601  [[0.0, 0.0, 0.0, 1.0], [0.0, 0.0, 0.0, 1.0], [...      0\n",
      "683  [[0.0, 0.0, 0.0, 1.0], [0.0, 0.0, 1.0, 0.0], [...      0\n",
      "535  [[0.0, 0.0, 0.0, 1.0], [0.0, 0.0, 1.0, 0.0], [...      1\n",
      "25   [[0.0, 0.0, 0.0, 1.0], [0.0, 0.0, 1.0, 0.0], [...      0\n",
      "692  [[0.0, 0.0, 0.0, 1.0], [1.0, 0.0, 0.0, 0.0], [...      1\n",
      "..                                                 ...    ...\n",
      "390  [[0.0, 0.0, 0.0, 1.0], [0.0, 0.0, 1.0, 0.0], [...      0\n",
      "212  [[0.0, 0.0, 0.0, 1.0], [0.0, 0.0, 1.0, 0.0], [...      1\n",
      "103  [[0.0, 0.0, 0.0, 1.0], [1.0, 0.0, 0.0, 0.0], [...      1\n",
      "221  [[0.0, 0.0, 0.0, 1.0], [1.0, 0.0, 0.0, 0.0], [...      0\n",
      "199  [[0.0, 0.0, 0.0, 1.0], [1.0, 0.0, 0.0, 0.0], [...      0\n",
      "\n",
      "[256 rows x 2 columns]\n",
      "label = 1(POS) in train:  512\n",
      "label = 0(NEG) in train:  508\n",
      "label = 1(POS) in valid:  128\n",
      "label = 0(NEG) in valid:  128\n",
      "--------------------------------------------------------------------------------\n",
      "train:\n",
      "                                                  data  label\n",
      "289  [[0.0, 0.0, 0.0, 1.0], [0.0, 1.0, 0.0, 0.0], [...      1\n",
      "685  [[0.0, 0.0, 0.0, 1.0], [0.0, 1.0, 0.0, 0.0], [...      0\n",
      "338  [[0.0, 0.0, 0.0, 1.0], [0.0, 0.0, 1.0, 0.0], [...      0\n",
      "559  [[0.0, 0.0, 0.0, 1.0], [1.0, 0.0, 0.0, 0.0], [...      1\n",
      "670  [[0.0, 0.0, 0.0, 1.0], [1.0, 0.0, 0.0, 0.0], [...      1\n",
      "..                                                 ...    ...\n",
      "638  [[0.0, 0.0, 0.0, 1.0], [0.0, 0.0, 1.0, 0.0], [...      1\n",
      "590  [[0.0, 0.0, 0.0, 1.0], [0.0, 0.0, 0.0, 1.0], [...      1\n",
      "332  [[0.0, 0.0, 0.0, 1.0], [1.0, 0.0, 0.0, 0.0], [...      1\n",
      "380  [[0.0, 0.0, 0.0, 1.0], [0.0, 1.0, 0.0, 0.0], [...      0\n",
      "684  [[0.0, 0.0, 0.0, 1.0], [1.0, 0.0, 0.0, 0.0], [...      0\n",
      "\n",
      "[1020 rows x 2 columns]\n",
      "valid:\n",
      "                                                  data  label\n",
      "426  [[0.0, 0.0, 0.0, 1.0], [0.0, 0.0, 1.0, 0.0], [...      0\n",
      "124  [[0.0, 0.0, 0.0, 1.0], [0.0, 1.0, 0.0, 0.0], [...      1\n",
      "217  [[0.0, 0.0, 0.0, 1.0], [0.0, 1.0, 0.0, 0.0], [...      1\n",
      "630  [[0.0, 0.0, 0.0, 1.0], [0.0, 0.0, 1.0, 0.0], [...      1\n",
      "0    [[0.0, 0.0, 0.0, 1.0], [0.0, 0.0, 1.0, 0.0], [...      1\n",
      "..                                                 ...    ...\n",
      "204  [[0.0, 0.0, 0.0, 1.0], [1.0, 0.0, 0.0, 0.0], [...      1\n",
      "481  [[0.0, 0.0, 0.0, 1.0], [0.0, 1.0, 0.0, 0.0], [...      0\n",
      "166  [[0.0, 0.0, 0.0, 1.0], [0.0, 0.0, 1.0, 0.0], [...      1\n",
      "400  [[0.0, 0.0, 0.0, 1.0], [0.0, 0.0, 0.0, 1.0], [...      0\n",
      "655  [[0.0, 0.0, 0.0, 1.0], [0.0, 0.0, 1.0, 0.0], [...      0\n",
      "\n",
      "[256 rows x 2 columns]\n",
      "label = 1(POS) in train:  512\n",
      "label = 0(NEG) in train:  508\n",
      "label = 1(POS) in valid:  128\n",
      "label = 0(NEG) in valid:  128\n",
      "--------------------------------------------------------------------------------\n"
     ]
    }
   ],
   "source": [
    "train_cv_l2 = {}\n",
    "\n",
    "for i, (train_index, test_index) in enumerate(sss.split(X, y)):\n",
    "  train_cv_l2['train'+str(i)] = pd.DataFrame({'data': X.iloc[train_index],'label': y.iloc[train_index]} )\n",
    "  train_cv_l2['cv'+str(i)] = pd.DataFrame({'data': X.iloc[test_index],'label': y.iloc[test_index]} )\n",
    "  a = y.iloc[train_index]\n",
    "  b = y.iloc[test_index]\n",
    "  print('train:')\n",
    "  print(train_cv_l2['train'+str(i)])\n",
    "  print('valid:')\n",
    "  print(train_cv_l2['cv'+str(i)])\n",
    "  print('label = 1(POS) in train: ',len(a[a == 1]))\n",
    "  print('label = 0(NEG) in train: ',len(a[a == 0]))\n",
    "  print('label = 1(POS) in valid: ',len(b[b == 1]))\n",
    "  print('label = 0(NEG) in valid: ',len(b[b == 0]))\n",
    "  print('-'*80)"
   ]
  },
  {
   "cell_type": "markdown",
   "metadata": {
    "id": "4gEywVH-4W0M"
   },
   "source": [
    "### save as pickle files"
   ]
  },
  {
   "cell_type": "code",
   "execution_count": 38,
   "metadata": {
    "colab": {
     "base_uri": "https://localhost:8080/",
     "height": 419
    },
    "executionInfo": {
     "elapsed": 835,
     "status": "ok",
     "timestamp": 1606064901764,
     "user": {
      "displayName": "N26091194鄧立昌",
      "photoUrl": "",
      "userId": "09046790946486703509"
     },
     "user_tz": -480
    },
    "id": "BUj-Y6Gr4W0M",
    "outputId": "11d4756c-785d-434b-96e8-4d1e1ac9a19b"
   },
   "outputs": [
    {
     "data": {
      "text/html": [
       "<div>\n",
       "<style scoped>\n",
       "    .dataframe tbody tr th:only-of-type {\n",
       "        vertical-align: middle;\n",
       "    }\n",
       "\n",
       "    .dataframe tbody tr th {\n",
       "        vertical-align: top;\n",
       "    }\n",
       "\n",
       "    .dataframe thead th {\n",
       "        text-align: right;\n",
       "    }\n",
       "</style>\n",
       "<table border=\"1\" class=\"dataframe\">\n",
       "  <thead>\n",
       "    <tr style=\"text-align: right;\">\n",
       "      <th></th>\n",
       "      <th>data</th>\n",
       "      <th>label</th>\n",
       "    </tr>\n",
       "  </thead>\n",
       "  <tbody>\n",
       "    <tr>\n",
       "      <th>406</th>\n",
       "      <td>[[0.0, 0.0, 0.0, 1.0], [0.0, 0.0, 0.0, 1.0], [...</td>\n",
       "      <td>1</td>\n",
       "    </tr>\n",
       "    <tr>\n",
       "      <th>482</th>\n",
       "      <td>[[0.0, 0.0, 0.0, 1.0], [0.0, 1.0, 0.0, 0.0], [...</td>\n",
       "      <td>0</td>\n",
       "    </tr>\n",
       "    <tr>\n",
       "      <th>287</th>\n",
       "      <td>[[0.0, 0.0, 0.0, 1.0], [0.0, 1.0, 0.0, 0.0], [...</td>\n",
       "      <td>1</td>\n",
       "    </tr>\n",
       "    <tr>\n",
       "      <th>55</th>\n",
       "      <td>[[0.0, 0.0, 0.0, 1.0], [0.0, 1.0, 0.0, 0.0], [...</td>\n",
       "      <td>0</td>\n",
       "    </tr>\n",
       "    <tr>\n",
       "      <th>320</th>\n",
       "      <td>[[0.0, 0.0, 0.0, 1.0], [0.0, 1.0, 0.0, 0.0], [...</td>\n",
       "      <td>0</td>\n",
       "    </tr>\n",
       "    <tr>\n",
       "      <th>...</th>\n",
       "      <td>...</td>\n",
       "      <td>...</td>\n",
       "    </tr>\n",
       "    <tr>\n",
       "      <th>172</th>\n",
       "      <td>[[0.0, 0.0, 0.0, 1.0], [0.0, 0.0, 1.0, 0.0], [...</td>\n",
       "      <td>1</td>\n",
       "    </tr>\n",
       "    <tr>\n",
       "      <th>545</th>\n",
       "      <td>[[0.0, 0.0, 0.0, 1.0], [0.0, 0.0, 1.0, 0.0], [...</td>\n",
       "      <td>1</td>\n",
       "    </tr>\n",
       "    <tr>\n",
       "      <th>1</th>\n",
       "      <td>[[0.0, 0.0, 0.0, 1.0], [0.0, 0.0, 0.0, 1.0], [...</td>\n",
       "      <td>0</td>\n",
       "    </tr>\n",
       "    <tr>\n",
       "      <th>412</th>\n",
       "      <td>[[0.0, 0.0, 0.0, 1.0], [1.0, 0.0, 0.0, 0.0], [...</td>\n",
       "      <td>1</td>\n",
       "    </tr>\n",
       "    <tr>\n",
       "      <th>372</th>\n",
       "      <td>[[0.0, 0.0, 0.0, 1.0], [1.0, 0.0, 0.0, 0.0], [...</td>\n",
       "      <td>0</td>\n",
       "    </tr>\n",
       "  </tbody>\n",
       "</table>\n",
       "<p>1020 rows × 2 columns</p>\n",
       "</div>"
      ],
      "text/plain": [
       "                                                  data  label\n",
       "406  [[0.0, 0.0, 0.0, 1.0], [0.0, 0.0, 0.0, 1.0], [...      1\n",
       "482  [[0.0, 0.0, 0.0, 1.0], [0.0, 1.0, 0.0, 0.0], [...      0\n",
       "287  [[0.0, 0.0, 0.0, 1.0], [0.0, 1.0, 0.0, 0.0], [...      1\n",
       "55   [[0.0, 0.0, 0.0, 1.0], [0.0, 1.0, 0.0, 0.0], [...      0\n",
       "320  [[0.0, 0.0, 0.0, 1.0], [0.0, 1.0, 0.0, 0.0], [...      0\n",
       "..                                                 ...    ...\n",
       "172  [[0.0, 0.0, 0.0, 1.0], [0.0, 0.0, 1.0, 0.0], [...      1\n",
       "545  [[0.0, 0.0, 0.0, 1.0], [0.0, 0.0, 1.0, 0.0], [...      1\n",
       "1    [[0.0, 0.0, 0.0, 1.0], [0.0, 0.0, 0.0, 1.0], [...      0\n",
       "412  [[0.0, 0.0, 0.0, 1.0], [1.0, 0.0, 0.0, 0.0], [...      1\n",
       "372  [[0.0, 0.0, 0.0, 1.0], [1.0, 0.0, 0.0, 0.0], [...      0\n",
       "\n",
       "[1020 rows x 2 columns]"
      ]
     },
     "execution_count": 38,
     "metadata": {},
     "output_type": "execute_result"
    }
   ],
   "source": [
    "train0_l2 = train_cv_l2['train0']\n",
    "train0_l2.to_pickle(\"./Datasets/train0_l2.pkl\")\n",
    "train0_l2"
   ]
  },
  {
   "cell_type": "code",
   "execution_count": 39,
   "metadata": {
    "id": "Eyfmlwb14W0M"
   },
   "outputs": [],
   "source": [
    "train1_l2 = train_cv_l2['train1']\n",
    "train1_l2.to_pickle(\"./Datasets/train1_l2.pkl\")\n",
    "\n",
    "train2_l2 = train_cv_l2['train2']\n",
    "train2_l2.to_pickle(\"./Datasets/train2_l2.pkl\")\n",
    "\n",
    "train3_l2 = train_cv_l2['train3']\n",
    "train3_l2.to_pickle(\"./Datasets/train3_l2.pkl\")\n",
    "\n",
    "train4_l2 = train_cv_l2['train4']\n",
    "train4_l2.to_pickle(\"./Datasets/train4_l2.pkl\")"
   ]
  },
  {
   "cell_type": "code",
   "execution_count": 40,
   "metadata": {
    "colab": {
     "base_uri": "https://localhost:8080/",
     "height": 419
    },
    "executionInfo": {
     "elapsed": 1051,
     "status": "ok",
     "timestamp": 1606064970967,
     "user": {
      "displayName": "N26091194鄧立昌",
      "photoUrl": "",
      "userId": "09046790946486703509"
     },
     "user_tz": -480
    },
    "id": "Peg_L7Xi4W0M",
    "outputId": "a44ca7c3-2d14-47f8-9798-23f88e6b2258"
   },
   "outputs": [
    {
     "data": {
      "text/html": [
       "<div>\n",
       "<style scoped>\n",
       "    .dataframe tbody tr th:only-of-type {\n",
       "        vertical-align: middle;\n",
       "    }\n",
       "\n",
       "    .dataframe tbody tr th {\n",
       "        vertical-align: top;\n",
       "    }\n",
       "\n",
       "    .dataframe thead th {\n",
       "        text-align: right;\n",
       "    }\n",
       "</style>\n",
       "<table border=\"1\" class=\"dataframe\">\n",
       "  <thead>\n",
       "    <tr style=\"text-align: right;\">\n",
       "      <th></th>\n",
       "      <th>data</th>\n",
       "      <th>label</th>\n",
       "    </tr>\n",
       "  </thead>\n",
       "  <tbody>\n",
       "    <tr>\n",
       "      <th>144</th>\n",
       "      <td>[[0.0, 0.0, 0.0, 1.0], [1.0, 0.0, 0.0, 0.0], [...</td>\n",
       "      <td>1</td>\n",
       "    </tr>\n",
       "    <tr>\n",
       "      <th>692</th>\n",
       "      <td>[[1.0, 0.0, 0.0, 0.0], [0.0, 0.0, 1.0, 0.0], [...</td>\n",
       "      <td>0</td>\n",
       "    </tr>\n",
       "    <tr>\n",
       "      <th>190</th>\n",
       "      <td>[[0.0, 0.0, 0.0, 1.0], [0.0, 0.0, 1.0, 0.0], [...</td>\n",
       "      <td>1</td>\n",
       "    </tr>\n",
       "    <tr>\n",
       "      <th>468</th>\n",
       "      <td>[[0.0, 0.0, 0.0, 1.0], [1.0, 0.0, 0.0, 0.0], [...</td>\n",
       "      <td>1</td>\n",
       "    </tr>\n",
       "    <tr>\n",
       "      <th>610</th>\n",
       "      <td>[[0.0, 0.0, 0.0, 1.0], [0.0, 1.0, 0.0, 0.0], [...</td>\n",
       "      <td>0</td>\n",
       "    </tr>\n",
       "    <tr>\n",
       "      <th>...</th>\n",
       "      <td>...</td>\n",
       "      <td>...</td>\n",
       "    </tr>\n",
       "    <tr>\n",
       "      <th>426</th>\n",
       "      <td>[[0.0, 0.0, 0.0, 1.0], [0.0, 0.0, 1.0, 0.0], [...</td>\n",
       "      <td>1</td>\n",
       "    </tr>\n",
       "    <tr>\n",
       "      <th>616</th>\n",
       "      <td>[[0.0, 0.0, 0.0, 1.0], [0.0, 0.0, 1.0, 0.0], [...</td>\n",
       "      <td>0</td>\n",
       "    </tr>\n",
       "    <tr>\n",
       "      <th>139</th>\n",
       "      <td>[[0.0, 0.0, 0.0, 1.0], [1.0, 0.0, 0.0, 0.0], [...</td>\n",
       "      <td>1</td>\n",
       "    </tr>\n",
       "    <tr>\n",
       "      <th>16</th>\n",
       "      <td>[[0.0, 0.0, 0.0, 1.0], [0.0, 0.0, 1.0, 0.0], [...</td>\n",
       "      <td>1</td>\n",
       "    </tr>\n",
       "    <tr>\n",
       "      <th>193</th>\n",
       "      <td>[[0.0, 0.0, 0.0, 1.0], [0.0, 1.0, 0.0, 0.0], [...</td>\n",
       "      <td>1</td>\n",
       "    </tr>\n",
       "  </tbody>\n",
       "</table>\n",
       "<p>256 rows × 2 columns</p>\n",
       "</div>"
      ],
      "text/plain": [
       "                                                  data  label\n",
       "144  [[0.0, 0.0, 0.0, 1.0], [1.0, 0.0, 0.0, 0.0], [...      1\n",
       "692  [[1.0, 0.0, 0.0, 0.0], [0.0, 0.0, 1.0, 0.0], [...      0\n",
       "190  [[0.0, 0.0, 0.0, 1.0], [0.0, 0.0, 1.0, 0.0], [...      1\n",
       "468  [[0.0, 0.0, 0.0, 1.0], [1.0, 0.0, 0.0, 0.0], [...      1\n",
       "610  [[0.0, 0.0, 0.0, 1.0], [0.0, 1.0, 0.0, 0.0], [...      0\n",
       "..                                                 ...    ...\n",
       "426  [[0.0, 0.0, 0.0, 1.0], [0.0, 0.0, 1.0, 0.0], [...      1\n",
       "616  [[0.0, 0.0, 0.0, 1.0], [0.0, 0.0, 1.0, 0.0], [...      0\n",
       "139  [[0.0, 0.0, 0.0, 1.0], [1.0, 0.0, 0.0, 0.0], [...      1\n",
       "16   [[0.0, 0.0, 0.0, 1.0], [0.0, 0.0, 1.0, 0.0], [...      1\n",
       "193  [[0.0, 0.0, 0.0, 1.0], [0.0, 1.0, 0.0, 0.0], [...      1\n",
       "\n",
       "[256 rows x 2 columns]"
      ]
     },
     "execution_count": 40,
     "metadata": {},
     "output_type": "execute_result"
    }
   ],
   "source": [
    "cv0_l2 = train_cv_l2['cv0']\n",
    "cv0_l2.to_pickle(\"./Datasets/cv0_l2.pkl\")\n",
    "cv0_l2"
   ]
  },
  {
   "cell_type": "code",
   "execution_count": 41,
   "metadata": {
    "id": "8lhv5H6m4W0M"
   },
   "outputs": [],
   "source": [
    "cv1_l2 = train_cv_l2['cv1']\n",
    "cv1_l2.to_pickle(\"./Datasets/cv1_l2.pkl\")\n",
    "\n",
    "cv2_l2 = train_cv_l2['cv2']\n",
    "cv2_l2.to_pickle(\"./Datasets/cv2_l2.pkl\")\n",
    "\n",
    "cv3_l2 = train_cv_l2['cv3']\n",
    "cv3_l2.to_pickle(\"./Datasets/cv3_l2.pkl\")\n",
    "\n",
    "cv4_l2 = train_cv_l2['cv4']\n",
    "cv4_l2.to_pickle(\"./Datasets/cv4_l2.pkl\")"
   ]
  }
 ],
 "metadata": {
  "colab": {
   "authorship_tag": "ABX9TyMMaq3LSOUFQMijSAKziBce",
   "collapsed_sections": [
    "O_XRhVtZ4W0K"
   ],
   "mount_file_id": "1x0LxxiR3CzPMELqYWNaDyJlsu-B-GsEi",
   "name": "data_split.ipynb",
   "provenance": []
  },
  "kernelspec": {
   "display_name": "Python 3",
   "language": "python",
   "name": "python3"
  },
  "language_info": {
   "codemirror_mode": {
    "name": "ipython",
    "version": 3
   },
   "file_extension": ".py",
   "mimetype": "text/x-python",
   "name": "python",
   "nbconvert_exporter": "python",
   "pygments_lexer": "ipython3",
   "version": "3.8.6"
  }
 },
 "nbformat": 4,
 "nbformat_minor": 1
}
